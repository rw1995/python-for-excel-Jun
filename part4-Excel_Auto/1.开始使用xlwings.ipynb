{
 "cells": [
  {
   "cell_type": "markdown",
   "metadata": {},
   "source": [
    "本章开头，主要介绍Excel对象模型和xlwings\n",
    "\n",
    "1. 学习基础知识， 如何连接工作簿、读写单元格的值\n",
    "2. 深度学习如何利用转换器和各种选项来处理pandas DataFrame和Numpy数组。\n",
    "3. 解释xlwings工作原理"
   ]
  },
  {
   "cell_type": "markdown",
   "metadata": {},
   "source": [
    "## 1.开始使用xlwings\n",
    "### 1.1 将Excel用作数据查看器\n",
    "\n"
   ]
  },
  {
   "cell_type": "code",
   "execution_count": 5,
   "metadata": {},
   "outputs": [],
   "source": [
    "import datetime as dt\n",
    "import xlwings as xw\n",
    "import pandas as pd\n",
    "import numpy as np"
   ]
  },
  {
   "cell_type": "code",
   "execution_count": 6,
   "metadata": {},
   "outputs": [
    {
     "data": {
      "text/html": [
       "<div>\n",
       "<style scoped>\n",
       "    .dataframe tbody tr th:only-of-type {\n",
       "        vertical-align: middle;\n",
       "    }\n",
       "\n",
       "    .dataframe tbody tr th {\n",
       "        vertical-align: top;\n",
       "    }\n",
       "\n",
       "    .dataframe thead th {\n",
       "        text-align: right;\n",
       "    }\n",
       "</style>\n",
       "<table border=\"1\" class=\"dataframe\">\n",
       "  <thead>\n",
       "    <tr style=\"text-align: right;\">\n",
       "      <th></th>\n",
       "      <th>Traub 1</th>\n",
       "      <th>Traub 2</th>\n",
       "      <th>Traub 3</th>\n",
       "      <th>Traub 4</th>\n",
       "      <th>Traub 5</th>\n",
       "    </tr>\n",
       "  </thead>\n",
       "  <tbody>\n",
       "    <tr>\n",
       "      <th>0</th>\n",
       "      <td>0.716805</td>\n",
       "      <td>0.522042</td>\n",
       "      <td>1.126891</td>\n",
       "      <td>-0.818033</td>\n",
       "      <td>0.383853</td>\n",
       "    </tr>\n",
       "    <tr>\n",
       "      <th>1</th>\n",
       "      <td>0.667052</td>\n",
       "      <td>-0.525294</td>\n",
       "      <td>1.316766</td>\n",
       "      <td>1.768725</td>\n",
       "      <td>0.036111</td>\n",
       "    </tr>\n",
       "    <tr>\n",
       "      <th>2</th>\n",
       "      <td>-0.583887</td>\n",
       "      <td>1.224307</td>\n",
       "      <td>-2.614621</td>\n",
       "      <td>-0.787321</td>\n",
       "      <td>0.084570</td>\n",
       "    </tr>\n",
       "    <tr>\n",
       "      <th>3</th>\n",
       "      <td>0.826711</td>\n",
       "      <td>0.595808</td>\n",
       "      <td>1.789517</td>\n",
       "      <td>0.231150</td>\n",
       "      <td>-0.503082</td>\n",
       "    </tr>\n",
       "    <tr>\n",
       "      <th>4</th>\n",
       "      <td>0.976986</td>\n",
       "      <td>-0.397566</td>\n",
       "      <td>1.111736</td>\n",
       "      <td>0.426395</td>\n",
       "      <td>-2.813906</td>\n",
       "    </tr>\n",
       "    <tr>\n",
       "      <th>...</th>\n",
       "      <td>...</td>\n",
       "      <td>...</td>\n",
       "      <td>...</td>\n",
       "      <td>...</td>\n",
       "      <td>...</td>\n",
       "    </tr>\n",
       "    <tr>\n",
       "      <th>95</th>\n",
       "      <td>-0.012022</td>\n",
       "      <td>0.703707</td>\n",
       "      <td>-0.046439</td>\n",
       "      <td>-0.353314</td>\n",
       "      <td>-0.321509</td>\n",
       "    </tr>\n",
       "    <tr>\n",
       "      <th>96</th>\n",
       "      <td>0.807168</td>\n",
       "      <td>0.334828</td>\n",
       "      <td>-0.337283</td>\n",
       "      <td>0.945607</td>\n",
       "      <td>0.897734</td>\n",
       "    </tr>\n",
       "    <tr>\n",
       "      <th>97</th>\n",
       "      <td>-0.197056</td>\n",
       "      <td>0.677489</td>\n",
       "      <td>-2.627688</td>\n",
       "      <td>0.072414</td>\n",
       "      <td>-1.971709</td>\n",
       "    </tr>\n",
       "    <tr>\n",
       "      <th>98</th>\n",
       "      <td>-1.465213</td>\n",
       "      <td>1.870936</td>\n",
       "      <td>-1.269265</td>\n",
       "      <td>-0.188267</td>\n",
       "      <td>0.601951</td>\n",
       "    </tr>\n",
       "    <tr>\n",
       "      <th>99</th>\n",
       "      <td>-1.215618</td>\n",
       "      <td>0.260174</td>\n",
       "      <td>0.419415</td>\n",
       "      <td>1.271994</td>\n",
       "      <td>-1.586563</td>\n",
       "    </tr>\n",
       "  </tbody>\n",
       "</table>\n",
       "<p>100 rows × 5 columns</p>\n",
       "</div>"
      ],
      "text/plain": [
       "     Traub 1   Traub 2   Traub 3   Traub 4   Traub 5\n",
       "0   0.716805  0.522042  1.126891 -0.818033  0.383853\n",
       "1   0.667052 -0.525294  1.316766  1.768725  0.036111\n",
       "2  -0.583887  1.224307 -2.614621 -0.787321  0.084570\n",
       "3   0.826711  0.595808  1.789517  0.231150 -0.503082\n",
       "4   0.976986 -0.397566  1.111736  0.426395 -2.813906\n",
       "..       ...       ...       ...       ...       ...\n",
       "95 -0.012022  0.703707 -0.046439 -0.353314 -0.321509\n",
       "96  0.807168  0.334828 -0.337283  0.945607  0.897734\n",
       "97 -0.197056  0.677489 -2.627688  0.072414 -1.971709\n",
       "98 -1.465213  1.870936 -1.269265 -0.188267  0.601951\n",
       "99 -1.215618  0.260174  0.419415  1.271994 -1.586563\n",
       "\n",
       "[100 rows x 5 columns]"
      ]
     },
     "execution_count": 6,
     "metadata": {},
     "output_type": "execute_result"
    }
   ],
   "source": [
    "df = pd.DataFrame(data=np.random.randn(100,5), columns=[f'Traub {i}' for i in range(1, 6)])\n",
    "df "
   ]
  },
  {
   "cell_type": "code",
   "execution_count": 7,
   "metadata": {},
   "outputs": [],
   "source": [
    "xw.view(df) #view相当于将数据复制到一张工作表的A1单元格上。 此处直接打开了一个excel"
   ]
  },
  {
   "cell_type": "markdown",
   "metadata": {},
   "source": [
    "### 1.2 Excel对象模型"
   ]
  },
  {
   "cell_type": "code",
   "execution_count": 8,
   "metadata": {},
   "outputs": [
    {
     "data": {
      "text/plain": [
       "'工作簿2'"
      ]
     },
     "execution_count": 8,
     "metadata": {},
     "output_type": "execute_result"
    }
   ],
   "source": [
    "# 创建一个空的工作簿， 此处打开了一个excel\n",
    "book = xw.Book()\n",
    "book.name"
   ]
  },
  {
   "cell_type": "code",
   "execution_count": 9,
   "metadata": {},
   "outputs": [
    {
     "data": {
      "text/plain": [
       "Sheets([<Sheet [工作簿2]Sheet1>])"
      ]
     },
     "execution_count": 9,
     "metadata": {},
     "output_type": "execute_result"
    }
   ],
   "source": [
    "book.sheets"
   ]
  },
  {
   "cell_type": "code",
   "execution_count": 10,
   "metadata": {},
   "outputs": [],
   "source": [
    "# 通过索引或者名称获取工作表对象\n",
    "sheet1 = book.sheets[0] # sheet1 = books.sheets['Sheet1']"
   ]
  },
  {
   "cell_type": "code",
   "execution_count": 11,
   "metadata": {},
   "outputs": [
    {
     "data": {
      "text/plain": [
       "<Range [工作簿2]Sheet1!$A$1>"
      ]
     },
     "execution_count": 11,
     "metadata": {},
     "output_type": "execute_result"
    }
   ],
   "source": [
    "sheet1.range('A1')"
   ]
  },
  {
   "cell_type": "code",
   "execution_count": 12,
   "metadata": {},
   "outputs": [],
   "source": [
    "# 写入值， 试试刷新了excel\n",
    "sheet1.range('A1').value = [[1,2],[3,4]]\n",
    "sheet1.range('A4').value = 'Hello!'\n",
    "\n"
   ]
  },
  {
   "cell_type": "code",
   "execution_count": 13,
   "metadata": {},
   "outputs": [
    {
     "data": {
      "text/plain": [
       "[[1.0, 2.0], [3.0, 4.0]]"
      ]
     },
     "execution_count": 13,
     "metadata": {},
     "output_type": "execute_result"
    }
   ],
   "source": [
    "# 读取值\n",
    "sheet1.range('A1:B2').value"
   ]
  },
  {
   "cell_type": "code",
   "execution_count": 14,
   "metadata": {},
   "outputs": [
    {
     "data": {
      "text/plain": [
       "'Hello!'"
      ]
     },
     "execution_count": 14,
     "metadata": {},
     "output_type": "execute_result"
    }
   ],
   "source": [
    "sheet1.range('A4').value"
   ]
  },
  {
   "cell_type": "code",
   "execution_count": 15,
   "metadata": {},
   "outputs": [
    {
     "data": {
      "text/plain": [
       "<Range [工作簿2]Sheet1!$A$1>"
      ]
     },
     "execution_count": 15,
     "metadata": {},
     "output_type": "execute_result"
    }
   ],
   "source": [
    "# 索引\n",
    "sheet1.range(\"A1:B2\")[0,0]"
   ]
  },
  {
   "cell_type": "code",
   "execution_count": 16,
   "metadata": {},
   "outputs": [
    {
     "data": {
      "text/plain": [
       "<Range [工作簿2]Sheet1!$B$1:$B$2>"
      ]
     },
     "execution_count": 16,
     "metadata": {},
     "output_type": "execute_result"
    }
   ],
   "source": [
    "# 切片\n",
    "sheet1.range('A1:B2')[:,1]"
   ]
  },
  {
   "cell_type": "code",
   "execution_count": 17,
   "metadata": {},
   "outputs": [
    {
     "data": {
      "text/plain": [
       "<Range [工作簿2]Sheet1!$A$1>"
      ]
     },
     "execution_count": 17,
     "metadata": {},
     "output_type": "execute_result"
    }
   ],
   "source": [
    "# 除了上述直接使用range来使用sheet对象的range属性， 也可以通过对sheet对象进行索引和切片来获取一个range对象。\n",
    "# 利用A1表示法可以少让你敲一些字，而使用整个切片可以让Excel工作表看上去更像是Numpy数组\n",
    "\n",
    "# 单个单元格\n",
    "sheet1[\"A1\"]"
   ]
  },
  {
   "cell_type": "code",
   "execution_count": 18,
   "metadata": {},
   "outputs": [
    {
     "data": {
      "text/plain": [
       "<Range [工作簿2]Sheet1!$A$1:$B$2>"
      ]
     },
     "execution_count": 18,
     "metadata": {},
     "output_type": "execute_result"
    }
   ],
   "source": [
    "# 多个单元格 A1表示法\n",
    "sheet1['A1:B2']"
   ]
  },
  {
   "cell_type": "code",
   "execution_count": 19,
   "metadata": {},
   "outputs": [
    {
     "data": {
      "text/plain": [
       "<Range [工作簿2]Sheet1!$A$1>"
      ]
     },
     "execution_count": 19,
     "metadata": {},
     "output_type": "execute_result"
    }
   ],
   "source": [
    "# 单个单元格：索引\n",
    "sheet1[0,0]"
   ]
  },
  {
   "cell_type": "code",
   "execution_count": 20,
   "metadata": {},
   "outputs": [
    {
     "data": {
      "text/plain": [
       "<Range [工作簿2]Sheet1!$A$1:$B$2>"
      ]
     },
     "execution_count": 20,
     "metadata": {},
     "output_type": "execute_result"
    }
   ],
   "source": [
    "# 多个单元格： 切片\n",
    "sheet1[:2,:2]"
   ]
  },
  {
   "cell_type": "markdown",
   "metadata": {},
   "source": [
    "如何从range对象自底向上得到app对象"
   ]
  },
  {
   "cell_type": "code",
   "execution_count": 21,
   "metadata": {},
   "outputs": [
    {
     "data": {
      "text/plain": [
       "<App [excel] 4036>"
      ]
     },
     "execution_count": 21,
     "metadata": {},
     "output_type": "execute_result"
    }
   ],
   "source": [
    "sheet1['A1'].sheet.book.app"
   ]
  },
  {
   "cell_type": "markdown",
   "metadata": {},
   "source": [
    "是时候看看如何利用多个Excel实例了。如何想在多个Excel实例中打开同一个工作簿， 或是出于性能方面的原因想要将多个工作簿分发给多个实例， 则需要**显式**地使用app对象。app对象的另一个常见用例是在隐藏的Excel实例中打开工作簿，这样你就可以在后台运行xlwings脚本且同时在Excel中完成其他工作。"
   ]
  },
  {
   "cell_type": "code",
   "execution_count": 22,
   "metadata": {},
   "outputs": [],
   "source": [
    "# 从打开的工作簿中获取app对象， 并创建一个额外的隐藏的app实例\n",
    "visble_app = sheet1.book.app\n",
    "invisible_app = xw.App(visible=False)"
   ]
  },
  {
   "cell_type": "code",
   "execution_count": 23,
   "metadata": {},
   "outputs": [
    {
     "data": {
      "text/plain": [
       "['工作簿1', '工作簿2']"
      ]
     },
     "execution_count": 23,
     "metadata": {},
     "output_type": "execute_result"
    }
   ],
   "source": [
    "[book.name for book in visble_app.books]"
   ]
  },
  {
   "cell_type": "code",
   "execution_count": 24,
   "metadata": {},
   "outputs": [
    {
     "data": {
      "text/plain": [
       "['工作簿3']"
      ]
     },
     "execution_count": 24,
     "metadata": {},
     "output_type": "execute_result"
    }
   ],
   "source": [
    "[book.name for book in invisible_app.books]"
   ]
  },
  {
   "cell_type": "code",
   "execution_count": 25,
   "metadata": {},
   "outputs": [
    {
     "data": {
      "text/plain": [
       "[14984, 4036]"
      ]
     },
     "execution_count": 25,
     "metadata": {},
     "output_type": "execute_result"
    }
   ],
   "source": [
    "# app的键带边隐藏ID(PID)\n",
    "xw.apps.keys()"
   ]
  },
  {
   "cell_type": "code",
   "execution_count": 26,
   "metadata": {},
   "outputs": [
    {
     "data": {
      "text/plain": [
       "14984"
      ]
     },
     "execution_count": 26,
     "metadata": {},
     "output_type": "execute_result"
    }
   ],
   "source": [
    "xw.apps.active.pid"
   ]
  },
  {
   "cell_type": "code",
   "execution_count": 27,
   "metadata": {},
   "outputs": [],
   "source": [
    "# 处理隐藏的Excel实例中的工作簿\n",
    "invisible_book = invisible_app.books[0]\n",
    "invisible_book.sheets[0]['A1'].value = 'Create by an invisible app'\n",
    "invisible_book.save('invisible.xlsx')\n",
    "invisible_app.quit()"
   ]
  },
  {
   "cell_type": "markdown",
   "metadata": {},
   "source": [
    "### 运行VBA代码\n",
    "\n",
    "通常在Excel中 我们会构建大量的VBA代码的旧式Excel项目， 那么要将所有的东西转换逻辑，利用Python代码进行重新构建是很难的。 在这种情况下， 我们可通过Python来运行VBA宏。\n",
    "\n",
    "通过Python调用Excel的接口， 我们不关注VBA内部函数的具体实现，只需要知道需要调用的函数名与输入参数即可。"
   ]
  },
  {
   "cell_type": "code",
   "execution_count": 28,
   "metadata": {},
   "outputs": [
    {
     "data": {
      "text/plain": [
       "9.0"
      ]
     },
     "execution_count": 28,
     "metadata": {},
     "output_type": "execute_result"
    }
   ],
   "source": [
    "vba_book = xw.Book('../ori_writer/xl/vba.xlsm')\n",
    "mysum = vba_book.macro('Module1.MySum')\n",
    "mysum(5,4)"
   ]
  },
  {
   "cell_type": "code",
   "execution_count": 29,
   "metadata": {},
   "outputs": [],
   "source": [
    "# 在excel中弹出对话框\n",
    "show_msgbox = vba_book.macro('Module1.ShowMsgBox')\n",
    "show_msgbox(\"Hello xlwings!\")\n"
   ]
  },
  {
   "cell_type": "code",
   "execution_count": 30,
   "metadata": {},
   "outputs": [],
   "source": [
    "vba_book.close()"
   ]
  },
  {
   "cell_type": "markdown",
   "metadata": {},
   "source": [
    "## 2. 转换器、选项和集合\n",
    "\n",
    "这节我们介绍如何在pandas中完成一些数据处理，并与xw进行配合， 然后我们进一步了解一些参数的含义\n",
    "\n",
    "\n"
   ]
  },
  {
   "cell_type": "markdown",
   "metadata": {},
   "source": [
    "### 2.1 处理DataFrame\n"
   ]
  },
  {
   "cell_type": "code",
   "execution_count": 31,
   "metadata": {},
   "outputs": [
    {
     "data": {
      "text/html": [
       "<div>\n",
       "<style scoped>\n",
       "    .dataframe tbody tr th:only-of-type {\n",
       "        vertical-align: middle;\n",
       "    }\n",
       "\n",
       "    .dataframe tbody tr th {\n",
       "        vertical-align: top;\n",
       "    }\n",
       "\n",
       "    .dataframe thead th {\n",
       "        text-align: right;\n",
       "    }\n",
       "</style>\n",
       "<table border=\"1\" class=\"dataframe\">\n",
       "  <thead>\n",
       "    <tr style=\"text-align: right;\">\n",
       "      <th></th>\n",
       "      <th>name</th>\n",
       "      <th>age</th>\n",
       "      <th>country</th>\n",
       "      <th>score</th>\n",
       "      <th>continent</th>\n",
       "    </tr>\n",
       "    <tr>\n",
       "      <th>user_id</th>\n",
       "      <th></th>\n",
       "      <th></th>\n",
       "      <th></th>\n",
       "      <th></th>\n",
       "      <th></th>\n",
       "    </tr>\n",
       "  </thead>\n",
       "  <tbody>\n",
       "    <tr>\n",
       "      <th>1001</th>\n",
       "      <td>Mark</td>\n",
       "      <td>55</td>\n",
       "      <td>Italy</td>\n",
       "      <td>4.5</td>\n",
       "      <td>Europe</td>\n",
       "    </tr>\n",
       "    <tr>\n",
       "      <th>1000</th>\n",
       "      <td>John</td>\n",
       "      <td>33</td>\n",
       "      <td>USA</td>\n",
       "      <td>6.7</td>\n",
       "      <td>America</td>\n",
       "    </tr>\n",
       "  </tbody>\n",
       "</table>\n",
       "</div>"
      ],
      "text/plain": [
       "         name  age country  score continent\n",
       "user_id                                    \n",
       "1001     Mark   55   Italy    4.5    Europe\n",
       "1000     John   33     USA    6.7   America"
      ]
     },
     "execution_count": 31,
     "metadata": {},
     "output_type": "execute_result"
    }
   ],
   "source": [
    "\n",
    "data = [[\"Mark\", 55, \"Italy\", 4.5, \"Europe\"],\n",
    "        [\"John\", 33, \"USA\", 6.7, \"America\"]]\n",
    "df = pd.DataFrame(data=data,\n",
    "                  columns=[\"name\", \"age\", \"country\",\n",
    "                           \"score\", \"continent\"],\n",
    "                  index=[1001, 1000])\n",
    "df.index.name = \"user_id\"\n",
    "df"
   ]
  },
  {
   "cell_type": "code",
   "execution_count": 32,
   "metadata": {},
   "outputs": [],
   "source": [
    "sheet1['A6'].value = df"
   ]
  },
  {
   "cell_type": "code",
   "execution_count": 33,
   "metadata": {},
   "outputs": [],
   "source": [
    "# 如果想去掉列标题或索引, 那么可以设置如下options\n",
    "\n",
    "sheet1['B10'].options(header=False, index=False).value = df"
   ]
  },
  {
   "cell_type": "code",
   "execution_count": 34,
   "metadata": {},
   "outputs": [],
   "source": [
    "# 引入第二种方式expand函数， 类似在Excel中右键部分区域数据，然后填充到另一个区域\n",
    "df2 = sheet1['A6'].expand().options(pd.DataFrame).value"
   ]
  },
  {
   "cell_type": "code",
   "execution_count": 35,
   "metadata": {},
   "outputs": [
    {
     "data": {
      "text/html": [
       "<div>\n",
       "<style scoped>\n",
       "    .dataframe tbody tr th:only-of-type {\n",
       "        vertical-align: middle;\n",
       "    }\n",
       "\n",
       "    .dataframe tbody tr th {\n",
       "        vertical-align: top;\n",
       "    }\n",
       "\n",
       "    .dataframe thead th {\n",
       "        text-align: right;\n",
       "    }\n",
       "</style>\n",
       "<table border=\"1\" class=\"dataframe\">\n",
       "  <thead>\n",
       "    <tr style=\"text-align: right;\">\n",
       "      <th></th>\n",
       "      <th>name</th>\n",
       "      <th>age</th>\n",
       "      <th>country</th>\n",
       "      <th>score</th>\n",
       "      <th>continent</th>\n",
       "    </tr>\n",
       "    <tr>\n",
       "      <th>user_id</th>\n",
       "      <th></th>\n",
       "      <th></th>\n",
       "      <th></th>\n",
       "      <th></th>\n",
       "      <th></th>\n",
       "    </tr>\n",
       "  </thead>\n",
       "  <tbody>\n",
       "    <tr>\n",
       "      <th>1001.0</th>\n",
       "      <td>Mark</td>\n",
       "      <td>55.0</td>\n",
       "      <td>Italy</td>\n",
       "      <td>4.5</td>\n",
       "      <td>Europe</td>\n",
       "    </tr>\n",
       "    <tr>\n",
       "      <th>1000.0</th>\n",
       "      <td>John</td>\n",
       "      <td>33.0</td>\n",
       "      <td>USA</td>\n",
       "      <td>6.7</td>\n",
       "      <td>America</td>\n",
       "    </tr>\n",
       "  </tbody>\n",
       "</table>\n",
       "</div>"
      ],
      "text/plain": [
       "         name   age country  score continent\n",
       "user_id                                     \n",
       "1001.0   Mark  55.0   Italy    4.5    Europe\n",
       "1000.0   John  33.0     USA    6.7   America"
      ]
     },
     "execution_count": 35,
     "metadata": {},
     "output_type": "execute_result"
    }
   ],
   "source": [
    "df2"
   ]
  },
  {
   "cell_type": "code",
   "execution_count": 36,
   "metadata": {},
   "outputs": [
    {
     "data": {
      "text/html": [
       "<div>\n",
       "<style scoped>\n",
       "    .dataframe tbody tr th:only-of-type {\n",
       "        vertical-align: middle;\n",
       "    }\n",
       "\n",
       "    .dataframe tbody tr th {\n",
       "        vertical-align: top;\n",
       "    }\n",
       "\n",
       "    .dataframe thead th {\n",
       "        text-align: right;\n",
       "    }\n",
       "</style>\n",
       "<table border=\"1\" class=\"dataframe\">\n",
       "  <thead>\n",
       "    <tr style=\"text-align: right;\">\n",
       "      <th></th>\n",
       "      <th>name</th>\n",
       "      <th>age</th>\n",
       "      <th>country</th>\n",
       "      <th>score</th>\n",
       "      <th>continent</th>\n",
       "    </tr>\n",
       "    <tr>\n",
       "      <th>user_id</th>\n",
       "      <th></th>\n",
       "      <th></th>\n",
       "      <th></th>\n",
       "      <th></th>\n",
       "      <th></th>\n",
       "    </tr>\n",
       "  </thead>\n",
       "  <tbody>\n",
       "    <tr>\n",
       "      <th>1001</th>\n",
       "      <td>Mark</td>\n",
       "      <td>55.0</td>\n",
       "      <td>Italy</td>\n",
       "      <td>4.5</td>\n",
       "      <td>Europe</td>\n",
       "    </tr>\n",
       "    <tr>\n",
       "      <th>1000</th>\n",
       "      <td>John</td>\n",
       "      <td>33.0</td>\n",
       "      <td>USA</td>\n",
       "      <td>6.7</td>\n",
       "      <td>America</td>\n",
       "    </tr>\n",
       "  </tbody>\n",
       "</table>\n",
       "</div>"
      ],
      "text/plain": [
       "         name   age country  score continent\n",
       "user_id                                     \n",
       "1001     Mark  55.0   Italy    4.5    Europe\n",
       "1000     John  33.0     USA    6.7   America"
      ]
     },
     "execution_count": 36,
     "metadata": {},
     "output_type": "execute_result"
    }
   ],
   "source": [
    "# 修改成整数索引\n",
    "\n",
    "df2.index = df2.index.astype(int)\n",
    "df2"
   ]
  },
  {
   "cell_type": "code",
   "execution_count": 37,
   "metadata": {},
   "outputs": [
    {
     "data": {
      "text/html": [
       "<div>\n",
       "<style scoped>\n",
       "    .dataframe tbody tr th:only-of-type {\n",
       "        vertical-align: middle;\n",
       "    }\n",
       "\n",
       "    .dataframe tbody tr th {\n",
       "        vertical-align: top;\n",
       "    }\n",
       "\n",
       "    .dataframe thead th {\n",
       "        text-align: right;\n",
       "    }\n",
       "</style>\n",
       "<table border=\"1\" class=\"dataframe\">\n",
       "  <thead>\n",
       "    <tr style=\"text-align: right;\">\n",
       "      <th></th>\n",
       "      <th>user_id</th>\n",
       "      <th>name</th>\n",
       "      <th>age</th>\n",
       "      <th>country</th>\n",
       "      <th>score</th>\n",
       "      <th>continent</th>\n",
       "    </tr>\n",
       "  </thead>\n",
       "  <tbody>\n",
       "    <tr>\n",
       "      <th>0</th>\n",
       "      <td>1001.0</td>\n",
       "      <td>Mark</td>\n",
       "      <td>55.0</td>\n",
       "      <td>Italy</td>\n",
       "      <td>4.5</td>\n",
       "      <td>Europe</td>\n",
       "    </tr>\n",
       "    <tr>\n",
       "      <th>1</th>\n",
       "      <td>1000.0</td>\n",
       "      <td>John</td>\n",
       "      <td>33.0</td>\n",
       "      <td>USA</td>\n",
       "      <td>6.7</td>\n",
       "      <td>America</td>\n",
       "    </tr>\n",
       "  </tbody>\n",
       "</table>\n",
       "</div>"
      ],
      "text/plain": [
       "   user_id  name   age country  score continent\n",
       "0   1001.0  Mark  55.0   Italy    4.5    Europe\n",
       "1   1000.0  John  33.0     USA    6.7   America"
      ]
     },
     "execution_count": 37,
     "metadata": {},
     "output_type": "execute_result"
    }
   ],
   "source": [
    "#设置options中index=False，可以让变成默认索引。类似resetIndex\n",
    "sheet1['A6'].expand().options(pd.DataFrame, index=False).value\n"
   ]
  },
  {
   "cell_type": "markdown",
   "metadata": {},
   "source": [
    "### 2.2 转换器和选项\n",
    "\n",
    "如前所述， xlwings range对象的options方法修改的是读写Excel文件时处理值的方式， 即，只有在你调用range对象的value属性时， options才会进行求值。它的语法如下：\n",
    "\n",
    "`myrange.options(convert=None, option1=value1, option2=value2, ...).value`\n",
    "\n",
    "下图展示了convert参数的的选项\n",
    "|转换器|描述|\n",
    "|--|--|\n",
    "|dict|未发生嵌套的简单字典，即{key1:value1, key2:value2,...}的形式|\n",
    "|np.array|Numpy数组|\n",
    "|pd.Series|pandas series|\n",
    "|pd.DataFrame|pandas DataFrame|\n",
    "\n",
    "下图展示了options的内置选项\n",
    "|选项|描述|\n",
    "|--|--|\n",
    "|empty|默认情况下， 空单元格会被读取为None， 为empty参数提供一个值以改变默认值|\n",
    "|date|接受一个函数， 该函数会应用来自按日期格式化的单元的值|\n",
    "|numbers|接受一个函数，该函数会用到数值|\n",
    "|ndim|维数：ndim可以强制一个区域的值达到某个维度。只能取None、1、2中的一个值， 仅在以列表或Numpy数组读取值时可用|\n",
    "|transpose|将值转置， 即把行和列兑换|\n",
    "|index|不好描述|\n",
    "|header|是否生成列标题|\n",
    "\n",
    "\n",
    "\n"
   ]
  },
  {
   "cell_type": "code",
   "execution_count": 38,
   "metadata": {},
   "outputs": [
    {
     "data": {
      "text/plain": [
       "[1.0, 2.0]"
      ]
     },
     "execution_count": 38,
     "metadata": {},
     "output_type": "execute_result"
    }
   ],
   "source": [
    "# 水平方向\n",
    "sheet1[\"A1:B1\"].value"
   ]
  },
  {
   "cell_type": "code",
   "execution_count": 39,
   "metadata": {},
   "outputs": [
    {
     "data": {
      "text/plain": [
       "[1.0, 3.0]"
      ]
     },
     "execution_count": 39,
     "metadata": {},
     "output_type": "execute_result"
    }
   ],
   "source": [
    "# 垂直方向\n",
    "sheet1[\"A1:A2\"].value"
   ]
  },
  {
   "cell_type": "code",
   "execution_count": 40,
   "metadata": {},
   "outputs": [
    {
     "data": {
      "text/plain": [
       "[[1.0, 2.0]]"
      ]
     },
     "execution_count": 40,
     "metadata": {},
     "output_type": "execute_result"
    }
   ],
   "source": [
    "# 水平方向(二维)\n",
    "sheet1[\"A1:B1\"].options(ndim=2).value"
   ]
  },
  {
   "cell_type": "code",
   "execution_count": 42,
   "metadata": {},
   "outputs": [
    {
     "data": {
      "text/plain": [
       "[[1.0], [3.0]]"
      ]
     },
     "execution_count": 42,
     "metadata": {},
     "output_type": "execute_result"
    }
   ],
   "source": [
    "# 垂直方向（二维）\n",
    "sheet1[\"A1:A2\"].options(ndim=2).value"
   ]
  },
  {
   "cell_type": "code",
   "execution_count": 43,
   "metadata": {},
   "outputs": [
    {
     "data": {
      "text/plain": [
       "array([1., 3.])"
      ]
     },
     "execution_count": 43,
     "metadata": {},
     "output_type": "execute_result"
    }
   ],
   "source": [
    "# 使用numpy数组转换器\n",
    "sheet1[\"A1:A2\"].options(np.array).value"
   ]
  },
  {
   "cell_type": "code",
   "execution_count": 44,
   "metadata": {},
   "outputs": [
    {
     "data": {
      "text/plain": [
       "array([[1.],\n",
       "       [3.]])"
      ]
     },
     "execution_count": 44,
     "metadata": {},
     "output_type": "execute_result"
    }
   ],
   "source": [
    "# 使用numpy转换器，保持列方向不变\n",
    "sheet1[\"A1:A2\"].options(np.array, ndim=2).value"
   ]
  },
  {
   "cell_type": "code",
   "execution_count": 45,
   "metadata": {},
   "outputs": [],
   "source": [
    "# 垂直写入列表\n",
    "sheet1['D1'].options(transpose=True).value = [100, 200]"
   ]
  },
  {
   "cell_type": "markdown",
   "metadata": {},
   "source": [
    "上述中说的ndim和numpy中的ndarray类似。 在Excel中， 一列可以是一个二维的【看做每一行是一个组织，一列有多个行，则是二维的】，也可以看做是一维的【一列就是一列】，所以使用ndim能够将其进行转换来看"
   ]
  },
  {
   "cell_type": "code",
   "execution_count": 46,
   "metadata": {},
   "outputs": [
    {
     "data": {
      "text/plain": [
       "[datetime.datetime(2020, 1, 1, 0, 0), None, 1.0]"
      ]
     },
     "execution_count": 46,
     "metadata": {},
     "output_type": "execute_result"
    }
   ],
   "source": [
    "# 从A13开始写，B13 = NOne, C13 = 1\n",
    "sheet1['A13'].value = [dt.datetime(2020,1,1), None, 1.0]\n",
    "sheet1['A13:C13'].value"
   ]
  },
  {
   "cell_type": "code",
   "execution_count": 47,
   "metadata": {},
   "outputs": [
    {
     "data": {
      "text/plain": [
       "[datetime.datetime(2020, 1, 1, 0, 0), 'NA', 1.0]"
      ]
     },
     "execution_count": 47,
     "metadata": {},
     "output_type": "execute_result"
    }
   ],
   "source": [
    "# 使用非默认选项读取\n",
    "sheet1['A13:C13'].options(empty='NA', \n",
    "                          dataset=dt.date,\n",
    "                          number=int).value"
   ]
  },
  {
   "cell_type": "markdown",
   "metadata": {},
   "source": [
    "### 2.3 图表、图片和已定义名称\n",
    "\n"
   ]
  },
  {
   "cell_type": "code",
   "execution_count": 48,
   "metadata": {},
   "outputs": [],
   "source": [
    "# 1. Excel图表\n",
    "\n",
    "# 使用charts集合中的addd方法来添加一张新的图表并为其设置图表类型和源数据\n",
    "sheet1[\"A15\"].value = [[None, \"North\", \"South\"],\n",
    "                       [\"Last Year\", 2, 5],\n",
    "                       [\"This Year\", 3, 6]]"
   ]
  },
  {
   "cell_type": "code",
   "execution_count": 49,
   "metadata": {},
   "outputs": [],
   "source": [
    "chart = sheet1.charts.add(top=sheet1[\"A19\"].top,\n",
    "                          left=sheet1[\"A19\"].left)\n",
    "chart.chart_type = \"column_clustered\"\n",
    "chart.set_source_data(sheet1[\"A15\"].expand())"
   ]
  },
  {
   "cell_type": "code",
   "execution_count": 50,
   "metadata": {},
   "outputs": [],
   "source": [
    "# 2. 图片: Matplotlib图像\n",
    "\n",
    "# 图表数据转DataFrame\n",
    "df = sheet1['A15'].expand().options(pd.DataFrame).value"
   ]
  },
  {
   "cell_type": "code",
   "execution_count": 51,
   "metadata": {},
   "outputs": [
    {
     "data": {
      "text/html": [
       "<div>\n",
       "<style scoped>\n",
       "    .dataframe tbody tr th:only-of-type {\n",
       "        vertical-align: middle;\n",
       "    }\n",
       "\n",
       "    .dataframe tbody tr th {\n",
       "        vertical-align: top;\n",
       "    }\n",
       "\n",
       "    .dataframe thead th {\n",
       "        text-align: right;\n",
       "    }\n",
       "</style>\n",
       "<table border=\"1\" class=\"dataframe\">\n",
       "  <thead>\n",
       "    <tr style=\"text-align: right;\">\n",
       "      <th></th>\n",
       "      <th>North</th>\n",
       "      <th>South</th>\n",
       "    </tr>\n",
       "  </thead>\n",
       "  <tbody>\n",
       "    <tr>\n",
       "      <th>Last Year</th>\n",
       "      <td>2.0</td>\n",
       "      <td>5.0</td>\n",
       "    </tr>\n",
       "    <tr>\n",
       "      <th>This Year</th>\n",
       "      <td>3.0</td>\n",
       "      <td>6.0</td>\n",
       "    </tr>\n",
       "  </tbody>\n",
       "</table>\n",
       "</div>"
      ],
      "text/plain": [
       "           North  South\n",
       "Last Year    2.0    5.0\n",
       "This Year    3.0    6.0"
      ]
     },
     "execution_count": 51,
     "metadata": {},
     "output_type": "execute_result"
    }
   ],
   "source": [
    "df"
   ]
  },
  {
   "cell_type": "code",
   "execution_count": 52,
   "metadata": {},
   "outputs": [],
   "source": [
    "%matplotlib inline\n",
    "import matplotlib.pyplot as plt\n",
    "\n",
    "ax = df.T.plot.bar() #数据转置， 并画图\n",
    "fig = ax.get_figure() # 获取图片\n",
    "\n",
    "# 图片发送给excel\n",
    "plot = sheet1.pictures.add(fig, name=\"SalesPlot\",\n",
    "                           top=sheet1[\"H19\"].top,\n",
    "                           left=sheet1[\"H19\"].left)\n",
    "\n",
    "plot.width, plot.height = plot.width * 0.7, plot.height * 0.7"
   ]
  },
  {
   "cell_type": "code",
   "execution_count": 53,
   "metadata": {},
   "outputs": [],
   "source": [
    "# 要喜爱那个使用新的图像来更新图片，只需调用update方法并传递拎一个figure对象即可。 \n",
    "ax = (df + 1).T.plot.bar()\n",
    "plot = plot.update(ax.get_figure())"
   ]
  },
  {
   "cell_type": "markdown",
   "metadata": {},
   "source": [
    "上述对图表集合和图片集合都是通过sheet对象，我们也可以通过book对象来访问。"
   ]
  },
  {
   "cell_type": "markdown",
   "metadata": {},
   "source": [
    "3. 已定义名称\n",
    "\n",
    "在Excel中，我们通过为区域、公式、常量赋予名称来创建**已定义名称**。为一个区域明明可能是最常见的情况，这种区域被称作**具名区域**。\n",
    "\n",
    "利用具名区域， 你可以在公式、代码中使用描述性名称而不是抽象地址（A1:B2）来引用一个Excel区域。 \n",
    "\n",
    "在xlwings中使用这些名称可以让代码更加灵活且更加稳定： 利用具名区域读写值可以在不调整python代码的情况相爱重新组织工作簿。比如： 即使插入新行导致了单元格的移动，但对应的名称仍然引用的是原来的单元格。 自定义名称可以在全局工作簿作用于或局部工作表作用于中设置。 \n",
    "\n",
    "工作表作用于的优势是在复制工作表时不用担心重复的具名区域发生冲突。"
   ]
  },
  {
   "cell_type": "code",
   "execution_count": 55,
   "metadata": {},
   "outputs": [
    {
     "data": {
      "text/plain": [
       "<Range [工作簿2]Sheet1!$A$1:$B$2>"
      ]
     },
     "execution_count": 55,
     "metadata": {},
     "output_type": "execute_result"
    }
   ],
   "source": [
    "# 默认作用于是工作簿作用于\n",
    "sheet1[\"A1:B2\"].name = \"matrix1\"\n",
    "#对于工作表作用域， 需要再工作表名称前加一个感叹号\n",
    "sheet1[\"B10:E11\"].name = \"Sheet1!matrix2\"\n",
    "\n",
    "# 通过名称访问区域\n",
    "sheet1['matrix1']"
   ]
  },
  {
   "cell_type": "code",
   "execution_count": 56,
   "metadata": {},
   "outputs": [
    {
     "data": {
      "text/plain": [
       "[<Name 'Sheet1!matrix2': =Sheet1!$B$10:$E$11>]"
      ]
     },
     "execution_count": 56,
     "metadata": {},
     "output_type": "execute_result"
    }
   ],
   "source": [
    "# 如果通过sheet1对象访问名称集合， 则其中只包含工作表作用域的名称\n",
    "sheet1.names"
   ]
  },
  {
   "cell_type": "code",
   "execution_count": 57,
   "metadata": {},
   "outputs": [
    {
     "data": {
      "text/plain": [
       "[<Name 'matrix1': =Sheet1!$A$1:$B$2>, <Name 'Sheet1!matrix2': =Sheet1!$B$10:$E$11>]"
      ]
     },
     "execution_count": 57,
     "metadata": {},
     "output_type": "execute_result"
    }
   ],
   "source": [
    "# 如果通过book对象来访问名称集合， 则其中包含了工作簿和工作表作用域的所有名称\n",
    "\n",
    "book.names"
   ]
  },
  {
   "cell_type": "code",
   "execution_count": 60,
   "metadata": {},
   "outputs": [
    {
     "data": {
      "text/plain": [
       "<Range [工作簿2]Sheet1!$A$1:$B$2>"
      ]
     },
     "execution_count": 60,
     "metadata": {},
     "output_type": "execute_result"
    }
   ],
   "source": [
    "# 名称有多种方法和属性， 例如你可以获取对应的range对象\n",
    "book.names['matrix1'].refers_to_range"
   ]
  },
  {
   "cell_type": "code",
   "execution_count": 61,
   "metadata": {},
   "outputs": [
    {
     "data": {
      "text/plain": [
       "<Name 'EURUSD': =1.1151>"
      ]
     },
     "execution_count": 61,
     "metadata": {},
     "output_type": "execute_result"
    }
   ],
   "source": [
    "# 如果你喜爱那个为常来那个或公式取名， 你可以使用add方法\n",
    "\n",
    "book.names.add(\"EURUSD\",  \"=1.1151\")"
   ]
  },
  {
   "cell_type": "markdown",
   "metadata": {},
   "source": [
    "### 2.4案例研究(再次回顾)：Excel报表"
   ]
  },
  {
   "cell_type": "markdown",
   "metadata": {},
   "source": [
    "## 3.高级xlwings主题\n",
    "### 3.1 xlwings的基础\n",
    "我们可以看出 xlwings其实是基于其他python的资源包来和各个操作系统中的自动化机制通信的\n",
    "\n",
    "### 3.2 提升性能\n",
    "想让xlwings脚本有良好的性能，可以从以下入手：\n",
    "\n",
    "1. 尽可能减少跨应用程序调用\n",
    "2. 使用原始值\n",
    "3. 正确设置app的属性也会有一定保住\n",
    "\n"
   ]
  },
  {
   "cell_type": "code",
   "execution_count": 63,
   "metadata": {},
   "outputs": [],
   "source": [
    "# 1. 尽可能减少跨应用调用\n",
    "\n",
    "# 1. 添加新的工作表，写入150个人值以便有事可做\n",
    "\n",
    "sheet2 = book.sheets.add()\n",
    "sheet2['A1'].value = np.arange(150).reshape(30,5)\n",
    "\n"
   ]
  },
  {
   "cell_type": "code",
   "execution_count": 64,
   "metadata": {},
   "outputs": [
    {
     "name": "stdout",
     "output_type": "stream",
     "text": [
      "CPU times: total: 0 ns\n",
      "Wall time: 304 ms\n"
     ]
    }
   ],
   "source": [
    "# 1.1 逐个单元格去写\n",
    "%%time\n",
    "for cell in sheet2['A1:E30']:\n",
    "    cell.value += 1"
   ]
  },
  {
   "cell_type": "code",
   "execution_count": 65,
   "metadata": {},
   "outputs": [
    {
     "name": "stdout",
     "output_type": "stream",
     "text": [
      "CPU times: total: 0 ns\n",
      "Wall time: 26.4 ms\n"
     ]
    }
   ],
   "source": [
    "# 1.2 变成numpy 并行去写\n",
    "%%time\n",
    "values = sheet2['A1:E30'].options(np.array).value\n",
    "sheet2['A1:E30'].value = values + 1"
   ]
  },
  {
   "cell_type": "code",
   "execution_count": 66,
   "metadata": {},
   "outputs": [],
   "source": [
    "# 2. 原始值\n",
    "# 如果处理庞大的单元格区域， 需要跳过xlwings的数据清理阶段来节省时间【续写数据是， xlwings需要遍历每个值，找到对应的位置】，\n",
    "# 此时使用原始值(raw)作为转换器可以跳过这个过程。使用原始值，则表示不能在使用DataFrame， 需要以嵌套列表或元组的形式提供值\n",
    "# 同时必须只提供写入区域的完整地址\n",
    "\n",
    "sheet1['A35:B36'].options('raw').value = [[1,2],[3,4]]"
   ]
  },
  {
   "cell_type": "code",
   "execution_count": null,
   "metadata": {},
   "outputs": [],
   "source": [
    "# 3.app对象的属性\n",
    "# 根据工作簿内容的不同， 修改app某些属性可能让代码运行的更快\n",
    "#  在脚本的最后，一定要将app对象的属性还原！！！！！！！"
   ]
  },
  {
   "cell_type": "markdown",
   "metadata": {},
   "source": [
    "## 3.3 如何弥补缺失的功能\n",
    "\n",
    "xlwings为大部分常用的Excel命令提供了Python风格的接口，但仍然有很多Excel对象模型的方法和属性没有在xlwings中得到原生的实现。\n",
    "这样需要访问下xlwings提供的pywin32对象接口了,通过接口COM与Excel对象进行交互访问，同时我们也失去了跨平台兼容性， 比如macOS与windows的对象是不一样的。\n",
    "\n",
    "遵循如下原则：\n",
    "\n",
    "1. 检查xlwings的range对象上是否有对应方法可用。在jupyterbook中，输入range对象后面的点之后按下Tab键。 在vscode上， 可用方法会自动显示在提示信息中。\n",
    "2. 如果找不到所需功能，可以使用api属性或得底层对象。在winfows中， sheet['A1'].api会返回一个pywin32对象\n",
    "3. 在Excel VBA参考文档中可以查看Excel对象模型。\n",
    "4. 在windows中大部分时候可以直接在api对象上使用VA方法或实行。\n",
    "\n",
    "\n"
   ]
  },
  {
   "cell_type": "code",
   "execution_count": null,
   "metadata": {},
   "outputs": [],
   "source": [
    "import sys\n",
    "if sys.platform.startswith('darwin'):\n",
    "    sheet1['B10'].api.clear_formats()\n",
    "elif sys.platform.startswith('win'):\n",
    "    sheet1['A10'].api.ClearFormats()  # 弹不出方法，因为调用到pywin32对象了"
   ]
  },
  {
   "cell_type": "markdown",
   "metadata": {},
   "source": []
  }
 ],
 "metadata": {
  "kernelspec": {
   "display_name": "torch",
   "language": "python",
   "name": "python3"
  },
  "language_info": {
   "codemirror_mode": {
    "name": "ipython",
    "version": 3
   },
   "file_extension": ".py",
   "mimetype": "text/x-python",
   "name": "python",
   "nbconvert_exporter": "python",
   "pygments_lexer": "ipython3",
   "version": "3.9.0"
  },
  "orig_nbformat": 4
 },
 "nbformat": 4,
 "nbformat_minor": 2
}
