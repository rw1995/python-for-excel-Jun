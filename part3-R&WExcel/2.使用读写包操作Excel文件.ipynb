{
 "cells": [
  {
   "cell_type": "markdown",
   "metadata": {},
   "source": [
    "这一张主要讲解如何使用不同的包来读写Excel。 \n",
    "假如只想通过Numpy/Pandas进行操作的话，功能虽然强大， 但是我们往往不需要完整的库， 所以是否有更加精炼的库(包)呢？\n"
   ]
  },
  {
   "cell_type": "markdown",
   "metadata": {},
   "source": [
    "## 1. 读写包\n",
    "### 1.1 何时使用何种包\n",
    "\n",
    "\n",
    "这边介绍几种不同的\n",
    "1. OpenPyXL\n",
    "2. XlsxWriter\n",
    "3. pyxlsx\n",
    "4. xlrd\n",
    "5. xlwt\n",
    "6. xlutils\n",
    "\n",
    "用于读、写和编辑Excel文件的包\n",
    "\n",
    "|Excel文件格式|读|写|编辑|\n",
    "|--|--|--|--|\n",
    "|xlsx|OpenPyXL|OpenPyXL, XlsxWriter|OpenpyXL|\n",
    "|xlsm|OpenPyXL|OpenXL, XlsxWriter|OpenPyXL|\n",
    "|xltx, xltm|OpenPyXL|OpenPyXL|OpenPyXL|\n",
    "|xlsb|Pyxlsb|-|-|\n",
    "|xls, xlt|xlrd|xlwt|xlutils|\n",
    "\n",
    "区别(重点光柱OpenPyXL和XlsxWriter)\n",
    "\n",
    "在pandas中上述的包是一种引擎，即我们利用pandas包使用上面的哪种方式打开哪种excel文件，语法：`df.to_excel('filename.xlsx', engine='openpyxl')`"
   ]
  },
  {
   "cell_type": "markdown",
   "metadata": {},
   "source": [
    "### 1.2 excel.py模块"
   ]
  },
  {
   "cell_type": "markdown",
   "metadata": {},
   "source": [
    "### 1.3 OpenPyXL\n"
   ]
  },
  {
   "cell_type": "markdown",
   "metadata": {},
   "source": [
    "1. 使用OpenXL读取文件"
   ]
  },
  {
   "cell_type": "code",
   "execution_count": 3,
   "metadata": {},
   "outputs": [],
   "source": [
    "import pandas as pd\n",
    "import openpyxl\n",
    "import datetime as dt"
   ]
  },
  {
   "cell_type": "code",
   "execution_count": 4,
   "metadata": {},
   "outputs": [],
   "source": [
    "# 读取文件,data_only:加载后文件自动关闭\n",
    "book = openpyxl.load_workbook(\"../ori_writer/xl/stores.xlsx\", data_only=True)\n",
    "\n",
    "# 通过名称或者索引(从0开始)获取工作表对象\n",
    "sheet = book[\"2019\"]\n",
    "sheet = book.worksheets[0]"
   ]
  },
  {
   "cell_type": "code",
   "execution_count": 5,
   "metadata": {},
   "outputs": [
    {
     "data": {
      "text/plain": [
       "['2019', '2020', '2019-2020']"
      ]
     },
     "execution_count": 5,
     "metadata": {},
     "output_type": "execute_result"
    }
   ],
   "source": [
    "# 获取所有工作表名称的列表\n",
    "book.sheetnames"
   ]
  },
  {
   "cell_type": "code",
   "execution_count": 6,
   "metadata": {},
   "outputs": [
    {
     "name": "stdout",
     "output_type": "stream",
     "text": [
      "2019\n",
      "2020\n",
      "2019-2020\n"
     ]
    }
   ],
   "source": [
    "# 遍历所有工作表对象\n",
    "for i in book.worksheets:\n",
    "    print(i.title)"
   ]
  },
  {
   "cell_type": "code",
   "execution_count": 7,
   "metadata": {},
   "outputs": [
    {
     "data": {
      "text/plain": [
       "(8, 6)"
      ]
     },
     "execution_count": 7,
     "metadata": {},
     "output_type": "execute_result"
    }
   ],
   "source": [
    "# 获取工作表的维度\n",
    "sheet.max_row, sheet.max_column"
   ]
  },
  {
   "cell_type": "code",
   "execution_count": 8,
   "metadata": {},
   "outputs": [
    {
     "name": "stdout",
     "output_type": "stream",
     "text": [
      "Boston\n",
      "Boston\n"
     ]
    }
   ],
   "source": [
    "# 读取单个单元格的值\n",
    "# 方法1\n",
    "print(sheet['B6'].value)\n",
    "# 方法2\n",
    "print(sheet.cell(row=6, column=2).value)"
   ]
  },
  {
   "cell_type": "code",
   "execution_count": 10,
   "metadata": {},
   "outputs": [
    {
     "data": {
      "text/plain": [
       "[['Store', 'Employees', 'Manager', 'Since', 'Flagship'],\n",
       " ['New York', 10, 'Sarah', datetime.datetime(2018, 7, 20, 0, 0), False]]"
      ]
     },
     "execution_count": 10,
     "metadata": {},
     "output_type": "execute_result"
    }
   ],
   "source": [
    "# 使用excel模块（excel.py）来读取一个单元格区域的值\n",
    "import excel\n",
    "data = excel.read(book['2019'],(2,2),(8,6))\n",
    "data[:2] #打印前2行内容"
   ]
  },
  {
   "cell_type": "markdown",
   "metadata": {},
   "source": [
    "2. 调用OpenPyXL写入文件\n"
   ]
  },
  {
   "cell_type": "code",
   "execution_count": 11,
   "metadata": {},
   "outputs": [],
   "source": [
    "import openpyxl"
   ]
  },
  {
   "cell_type": "code",
   "execution_count": 13,
   "metadata": {},
   "outputs": [],
   "source": [
    "book = openpyxl.Workbook() #实例化一个独享\n",
    "\n",
    "# 构建第一张表， 并给一个名字\n",
    "sheet = book.active\n",
    "sheet.title = 'Sheet1'\n",
    "\n",
    "# 使用A1表示法，给A列1行位置单元格进行写数据\n",
    "sheet['A1'].value = 'Hello 1'\n",
    "\n",
    "# 或者使用单元格索引进行写(A2)\n",
    "sheet.cell(row=2, column=1, value='Hello 2')\n",
    "\n",
    "# 格式化: 填充颜色, 是否加粗\n",
    "# https://blog.csdn.net/qq_44614026/article/details/109707265\n",
    "from openpyxl.styles import colors, Font\n",
    "font_format = Font(color='FF0000', bold=True)\n",
    "\n",
    "# 设置单元格边框\n",
    "from openpyxl.styles.borders import Side,Border\n",
    "thin = Side(border_style='thin', color='FF0000')\n",
    "sheet[\"A3\"].value = \"Hello 3\"\n",
    "sheet[\"A3\"].font = font_format\n",
    "sheet[\"A3\"].border = Border(top=thin, left=thin,\n",
    "                            right=thin, bottom=thin)\n",
    "\n",
    "\n",
    "# 设置对齐方式\n",
    "from openpyxl.styles import Alignment\n",
    "sheet[\"A3\"].alignment = Alignment(horizontal=\"center\")\n",
    "# 设置填充\n",
    "from openpyxl.styles import PatternFill\n",
    "sheet[\"A3\"].fill = PatternFill(fgColor=\"FFFF00\", fill_type=\"solid\")\n",
    "\n",
    "# 数字格式化（使用Excel的格式化字符串）\n",
    "sheet['A4'].value = 3.3333\n",
    "sheet['A4'].number_format = '0.00'\n",
    "\n",
    "# 日期格式化\n",
    "sheet[\"A5\"].value = dt.date(2016, 10, 13)\n",
    "sheet[\"A5\"].number_format = \"mm/dd/yy\"\n",
    "\n",
    "# 公式： 必须使用以逗号分割的英文公式名称\n",
    "sheet[\"A6\"].value = \"=SUM(A4, 2)\"\n",
    "\n",
    "# 增加图片\n",
    "from openpyxl.drawing.image import Image\n",
    "sheet.add_image(Image('../ori_writer/images/python.png'), 'C1')\n",
    "\n",
    "# 二维列表\n",
    "data = [[None, \"North\", \"South\"],\n",
    "        [\"Last Year\", 2, 5],\n",
    "        [\"This Year\", 3, 6]]\n",
    "excel.write(sheet, data, 'A10')\n",
    "\n",
    "# 画图\n",
    "\n",
    "from openpyxl.chart import BarChart, Reference\n",
    "chart = BarChart()\n",
    "# 图表l类型名字、横纵坐标名字\n",
    "chart.type = \"col\"\n",
    "chart.title = \"Sales Per Region\"\n",
    "chart.x_axis.title = \"Regions\"\n",
    "chart.y_axis.title = \"Sales\"\n",
    "# reference可以理解设置表格横纵坐标索引， 类似excel对表格横纵坐标的设置\n",
    "chart_data = Reference(sheet, min_row=11, min_col=1,\n",
    "                       max_row=12, max_col=3)\n",
    "\n",
    "chart_categories = Reference(sheet, min_row=10, min_col=2,\n",
    "                             max_row=10, max_col=3)\n",
    "\n",
    "# 在表中添加数据和类型\n",
    "chart.add_data(chart_data, titles_from_data=True, from_rows=True)\n",
    "chart.set_categories(chart_categories)\n",
    "\n",
    "# sheet中挂表\n",
    "sheet.add_chart(chart, \"A15\")\n",
    "book.save('openpyxl.xlsx')\n"
   ]
  },
  {
   "cell_type": "markdown",
   "metadata": {},
   "source": [
    "如果想写入Excel模板文件， 需要再保存前设置template属性为True, 为什么使用模板，这边暂时不懂什么意思"
   ]
  },
  {
   "cell_type": "code",
   "execution_count": 14,
   "metadata": {},
   "outputs": [],
   "source": [
    "book = openpyxl.Workbook()\n",
    "sheet = book.active\n",
    "sheet[\"A1\"].value = \"This is a template\"\n",
    "book.template = True\n",
    "book.save(\"template.xltx\")"
   ]
  },
  {
   "cell_type": "markdown",
   "metadata": {},
   "source": [
    "### XlsxWriter\n",
    "顾名思义， 这个包只能用来读写Excel文件\n"
   ]
  },
  {
   "cell_type": "code",
   "execution_count": 15,
   "metadata": {},
   "outputs": [],
   "source": [
    "import datetime as dt\n",
    "import xlsxwriter\n",
    "import excel"
   ]
  },
  {
   "cell_type": "code",
   "execution_count": null,
   "metadata": {},
   "outputs": [],
   "source": [
    "# 实例化工作表\n",
    "book = xlsxwriter.Workbook(\"xlsxwriter.xlsx\")\n",
    "\n",
    "# A取名\n",
    "sheet = book.add_worksheet(\"Sheet1\")\n",
    "\n",
    "# 写数据的两种方式\n",
    "sheet.write(\"A1\", \"Hello 1\")\n",
    "sheet.write(1, 0, \"Hello 2\")\n",
    "\n",
    "# 设置颜色、对齐方式、 加粗、 单元格颜色\n",
    "formatting = book.add_format({\"font_color\": \"#FF0000\",\n",
    "                              \"bg_color\": \"#FFFF00\",\n",
    "                              \"bold\": True, \"align\": \"center\",\n",
    "                              \"border\": 1, \"border_color\": \"#FF0000\"})\n",
    "sheet.write(\"A3\", \"Hello 3\", formatting)\n",
    "\n",
    "# 数值格式\n",
    "number_format = book.add_format({\"num_format\": \"0.00\"})\n",
    "sheet.write(\"A4\", 3.3333, number_format)\n",
    "\n",
    "# 日期格式\n",
    "date_format = book.add_format({\"num_format\": \"mm/dd/yy\"})\n",
    "sheet.write(\"A5\", dt.date(2016, 10, 13), date_format)\n",
    "\n",
    "# 公式\n",
    "sheet.write(\"A6\", \"=SUM(A4, 2)\")\n",
    "\n",
    "# 插入图像\n",
    "sheet.insert_image(0, 2, \"../ori_writer/images/python.png\")\n",
    "\n",
    "# 数据\n",
    "data = [[None, \"North\", \"South\"],\n",
    "        [\"Last Year\", 2, 5],\n",
    "        [\"This Year\", 3, 6]]\n",
    "excel.write(sheet, data, \"A10\")\n",
    "\n",
    "# 插入表\n",
    "chart = book.add_chart({\"type\": \"column\"})\n",
    "chart.set_title({\"name\": \"Sales per Region\"})\n",
    "chart.add_series({\"name\": \"=Sheet1!A11\",\n",
    "                  \"categories\": \"=Sheet1!B10:C10\",\n",
    "                  \"values\": \"=Sheet1!B11:C11\"})\n",
    "chart.add_series({\"name\": \"=Sheet1!A12\",\n",
    "                  \"categories\": \"=Sheet1!B10:C10\",\n",
    "                  \"values\": \"=Sheet1!B12:C12\"})\n",
    "chart.set_x_axis({\"name\": \"Regions\"})\n",
    "chart.set_y_axis({\"name\": \"Sales\"})\n",
    "sheet.insert_chart(\"A15\", chart)\n",
    "\n",
    "# 关闭\n",
    "book.close()"
   ]
  },
  {
   "cell_type": "markdown",
   "metadata": {},
   "source": [
    "### 1.5 pyxlsb\n",
    "\n",
    "该包主要用于二进制的xlsb的文件， 这边不进行展开"
   ]
  },
  {
   "cell_type": "markdown",
   "metadata": {},
   "source": [
    "### 1.6 xlrd、xlwt和xlutils\n",
    "\n",
    "如果将xlrd、wlwt、wlutils结合起来， 它们可以为旧式xls格式的文件提供类似的功能： \n",
    "\n",
    "**xlrd读文件、 wlwt写文件、wlutils编辑xls文件。**"
   ]
  },
  {
   "cell_type": "code",
   "execution_count": 16,
   "metadata": {},
   "outputs": [],
   "source": [
    "import xlrd\n",
    "import xlwt\n",
    "from xlwt.Utils import cell_to_rowcol2\n",
    "import xlutils\n",
    "import excel\n",
    "\n",
    "# 加载数据\n",
    "book = xlrd.open_workbook('../ori_writer/xl/stores.xls')\n",
    "\n",
    "\n",
    "\n"
   ]
  },
  {
   "cell_type": "code",
   "execution_count": 17,
   "metadata": {},
   "outputs": [
    {
     "data": {
      "text/plain": [
       "['2019', '2020', '2019-2020']"
      ]
     },
     "execution_count": 17,
     "metadata": {},
     "output_type": "execute_result"
    }
   ],
   "source": [
    "# 获取所有表格的名称\n",
    "book.sheet_names()"
   ]
  },
  {
   "cell_type": "code",
   "execution_count": 19,
   "metadata": {},
   "outputs": [
    {
     "name": "stdout",
     "output_type": "stream",
     "text": [
      "Sheet  0:<2019> 2019\n",
      "Sheet  1:<2020> 2020\n",
      "Sheet  2:<2019-2020> 2019-2020\n"
     ]
    }
   ],
   "source": [
    "for sheet in book.sheets():\n",
    "    print(sheet, sheet.name)"
   ]
  },
  {
   "cell_type": "code",
   "execution_count": 20,
   "metadata": {},
   "outputs": [],
   "source": [
    "# 通过名称或索引(从0开始)获取工作表对象\n",
    "sheet = book.sheet_by_name('2019')\n",
    "\n",
    "# 等效于\n",
    "sheet = book.sheet_by_index(0)\n"
   ]
  },
  {
   "cell_type": "code",
   "execution_count": 21,
   "metadata": {},
   "outputs": [
    {
     "data": {
      "text/plain": [
       "6"
      ]
     },
     "execution_count": 21,
     "metadata": {},
     "output_type": "execute_result"
    }
   ],
   "source": [
    "sheet.ncols"
   ]
  },
  {
   "cell_type": "code",
   "execution_count": 22,
   "metadata": {},
   "outputs": [
    {
     "data": {
      "text/plain": [
       "8"
      ]
     },
     "execution_count": 22,
     "metadata": {},
     "output_type": "execute_result"
    }
   ],
   "source": [
    "sheet.nrows"
   ]
  },
  {
   "cell_type": "code",
   "execution_count": 23,
   "metadata": {},
   "outputs": [
    {
     "data": {
      "text/plain": [
       "'New York'"
      ]
     },
     "execution_count": 23,
     "metadata": {},
     "output_type": "execute_result"
    }
   ],
   "source": [
    "# 获取单元格数据(索引法)\n",
    "sheet.cell(2,1).value"
   ]
  },
  {
   "cell_type": "code",
   "execution_count": 25,
   "metadata": {},
   "outputs": [
    {
     "data": {
      "text/plain": [
       "'New York'"
      ]
     },
     "execution_count": 25,
     "metadata": {},
     "output_type": "execute_result"
    }
   ],
   "source": [
    "# 获取单元格数据(A1法)\n",
    "sheet.cell(*cell_to_rowcol2('B3')).value"
   ]
  },
  {
   "cell_type": "markdown",
   "metadata": {},
   "source": [
    "使用xlwt写入数据\n"
   ]
  },
  {
   "cell_type": "markdown",
   "metadata": {},
   "source": []
  },
  {
   "cell_type": "code",
   "execution_count": 44,
   "metadata": {},
   "outputs": [],
   "source": [
    "import xlwt\n",
    "from xlwt.Utils import cell_to_rowcol2\n",
    "import datetime as dt\n",
    "import excel\n",
    "\n",
    "# 实例化表格\n",
    "book = xlwt.Workbook()\n",
    "\n",
    "# 添加工作表并为其命名\n",
    "sheet = book.add_sheet('Sheet1')\n",
    "\n",
    "# 单元格添加数据\n",
    "sheet.write(*cell_to_rowcol2(\"A1\"), \"Hello 1\")\n",
    "sheet.write(r=1, c=0, label=\"Hello 2\")\n",
    "\n",
    "# 写数据\n",
    "formatting = xlwt.easyxf(\"font: bold on, color red;\"\n",
    "                         \"align: horiz center;\"\n",
    "                         \"borders: top_color red, bottom_color red,\"\n",
    "                                  \"right_color red, left_color red,\"\n",
    "                                  \"left thin, right thin,\"\n",
    "                                  \"top thin, bottom thin;\"\n",
    "                         \"pattern: pattern solid, fore_color yellow;\")\n",
    "sheet.write(r=2, c=0, label=\"Hello 3\", style=formatting)\n",
    "\n",
    "# 单元格文本格式化\n",
    "number_format = xlwt.easyxf(num_format_str=\"0.00\")\n",
    "sheet.write(3, 0, 3.3333, number_format)\n",
    "\n",
    "# 日期格式化\n",
    "date_format = xlwt.easyxf(num_format_str=\"mm/dd/yyyy\")\n",
    "sheet.write(4, 0, dt.datetime(2012, 2, 3), date_format)\n",
    "\n",
    "# 公式\n",
    "sheet.write(5, 0, xlwt.Formula(\"SUM(A4, 2)\"))\n",
    "\n",
    "# 数据\n",
    "data = [[None, \"North\", \"South\"],\n",
    "        [\"Last Year\", 2, 5],\n",
    "        [\"This Year\", 3, 6]]\n",
    "#excel.write(sheet, data, \"A10\")  // 这句话无法跑通\n",
    "max_row = 3 # 手动设置数据的长宽，\n",
    "max_columns = 3\n",
    "\n",
    "for i in range(10 , 10 + max_row):\n",
    "    for j in range(10, 10 + max_columns):\n",
    "        sheet.write(i+1, j+1, data[i-10][j-10])\n",
    "\n",
    "\n",
    "\n",
    "\n",
    "# 加图\n",
    "sheet.insert_bitmap(\"../ori_writer/images/python.bmp\", 0, 2)\n",
    "\n",
    "# 保存\n",
    "book.save(\"xlwt.xls\")"
   ]
  },
  {
   "cell_type": "markdown",
   "metadata": {},
   "source": [
    "使用xlutils编辑文件\n",
    "\n",
    "xlutils作为xlrd和xlwt之间的桥梁，用于编辑文件\n",
    "\n",
    "\n"
   ]
  },
  {
   "cell_type": "code",
   "execution_count": 46,
   "metadata": {},
   "outputs": [],
   "source": [
    "import xlutils.copy\n",
    "book = xlrd.open_workbook(\"../ori_writer/xl/stores.xls\", formatting_info=True)\n",
    "book = xlutils.copy.copy(book)\n",
    "book.get_sheet(0).write(0, 0, \"changed!\")\n",
    "book.save(\"stores_edited.xls\")"
   ]
  },
  {
   "cell_type": "markdown",
   "metadata": {},
   "source": [
    "## 2.读写包的高级主题\n",
    "\n",
    "一般使用python都是想解决大文件的Excel，默认的设置可能不够了，本节，我们学习如何处理大型excel文件"
   ]
  },
  {
   "cell_type": "markdown",
   "metadata": {},
   "source": [
    "### 2.1 处理大型Excel文件\n",
    "处理大型Excel文件可能会遇到2个问题： 1. 读写过程可能很慢；2.计算机的内存会不够，导致程序崩溃。\n",
    "\n",
    "#### 1. 使用OpenPyXL写入文件\n",
    "\n",
    "在使用OpenPyXL写入大型文件时， 一定要安装好lxml包， 因为lxml可以让写入过程更迅速，  使用`write_only=True`标志，它可以让内存消耗保持在较低的水平。 不过这个参数会通过`append`方法强制逐行写入，**并且不再允许写入单个单元格**。\n",
    "\n"
   ]
  },
  {
   "cell_type": "code",
   "execution_count": 47,
   "metadata": {},
   "outputs": [],
   "source": [
    "book = openpyxl.Workbook(write_only=True)\n",
    "# 创建一个表格\n",
    "sheet = book.create_sheet()\n",
    "# 生成一个 1000 * 200的单元格数据\n",
    "for row in range(1000):\n",
    "    sheet.append(list(range(200)))\n",
    "book.save(\"openpyxl_optimized.xlsx\")"
   ]
  },
  {
   "cell_type": "markdown",
   "metadata": {},
   "source": [
    "#### 2. 使用XlsxWriter写入文件\n",
    "XlsxWriter写入大文件，需要一个参数`constant_memory`， 它也会强制逐行写入。"
   ]
  },
  {
   "cell_type": "code",
   "execution_count": 48,
   "metadata": {},
   "outputs": [],
   "source": [
    "book = xlsxwriter.Workbook(\"xlsxwriter_optimized.xlsx\",\n",
    "                           options={\"constant_memory\": True})\n",
    "sheet = book.add_worksheet()\n",
    "# This will produce a sheet with 1000 x 200 cells\n",
    "for row in range(1000):\n",
    "    sheet.write_row(row , 0, list(range(200)))\n",
    "book.close()"
   ]
  },
  {
   "cell_type": "markdown",
   "metadata": {},
   "source": [
    "#### 3. 使用xlrd读取文件\n"
   ]
  },
  {
   "cell_type": "code",
   "execution_count": 49,
   "metadata": {},
   "outputs": [],
   "source": [
    "with xlrd.open_workbook(\"../ori_writer/xl/stores.xls\", on_demand=True) as book:\n",
    "    with pd.ExcelFile(book, engine=\"xlrd\") as f:\n",
    "        df = pd.read_excel(f, sheet_name=0)"
   ]
  },
  {
   "cell_type": "markdown",
   "metadata": {},
   "source": [
    "#### 4. 使用OpenPyXL读取文件\n",
    "\n",
    "要在使用OpenXL读取大型Excel文件时控制内存， 应该使用read_only=True来加载工作表， 由于OpenPyXL并不支持with语句，因此需要确保在工作完成时关闭文件。\n",
    "\n",
    "如果你的文件保存只想外部工作簿的连接，还需要使用keep_links=False来加速读取过程，keep_links可以确保对外部工作簿的引用不会丢失。"
   ]
  },
  {
   "cell_type": "code",
   "execution_count": 50,
   "metadata": {},
   "outputs": [],
   "source": [
    "book = openpyxl.load_workbook(\"../ori_writer/xl/big.xlsx\",\n",
    "                              data_only=True, read_only=True,\n",
    "                              keep_links=False)\n",
    "book.close()  # Required with read_only=True"
   ]
  },
  {
   "cell_type": "markdown",
   "metadata": {},
   "source": [
    "#### 5. 并行读取工作表"
   ]
  },
  {
   "cell_type": "markdown",
   "metadata": {},
   "source": [
    "在工作中，往往需要同时读取大型工作簿的多张工作表， 这个会花很长时间， 如何加速呢？\n"
   ]
  },
  {
   "cell_type": "code",
   "execution_count": 51,
   "metadata": {},
   "outputs": [
    {
     "name": "stdout",
     "output_type": "stream",
     "text": [
      "CPU times: total: 13.5 s\n",
      "Wall time: 59.9 s\n"
     ]
    }
   ],
   "source": [
    "%time\n",
    "data = pd.read_excel('../ori_writer/xl/big.xlsx', sheet_name=None, engine='openpyxl')\n"
   ]
  },
  {
   "cell_type": "code",
   "execution_count": 59,
   "metadata": {},
   "outputs": [
    {
     "name": "stdout",
     "output_type": "stream",
     "text": [
      "12.77919602394104\n"
     ]
    }
   ],
   "source": [
    "# 使用并行\n",
    "import time\n",
    "import parallel_pandas\n",
    "\n",
    "s = time.time()\n",
    "data = parallel_pandas.read_excel('../ori_writer/xl/big.xlsx', sheet_name=None)\n",
    "print(time.time()-s)"
   ]
  },
  {
   "cell_type": "markdown",
   "metadata": {},
   "source": [
    "知道了如何读取大型数据后，我们学习将DataFrame数据写到Excxel时如何将pandas和低级读写班哦啊结合起来以改进其默认格式。"
   ]
  },
  {
   "cell_type": "markdown",
   "metadata": {},
   "source": [
    "### 2.2 调整DataFrame在Excel中的格式\n",
    "\n"
   ]
  },
  {
   "cell_type": "markdown",
   "metadata": {},
   "source": [
    "1. 调整DatFrame索引和标题的格式\n",
    "   "
   ]
  },
  {
   "cell_type": "code",
   "execution_count": 60,
   "metadata": {},
   "outputs": [
    {
     "data": {
      "text/html": [
       "<div>\n",
       "<style scoped>\n",
       "    .dataframe tbody tr th:only-of-type {\n",
       "        vertical-align: middle;\n",
       "    }\n",
       "\n",
       "    .dataframe tbody tr th {\n",
       "        vertical-align: top;\n",
       "    }\n",
       "\n",
       "    .dataframe thead th {\n",
       "        text-align: right;\n",
       "    }\n",
       "</style>\n",
       "<table border=\"1\" class=\"dataframe\">\n",
       "  <thead>\n",
       "    <tr style=\"text-align: right;\">\n",
       "      <th></th>\n",
       "      <th>col1</th>\n",
       "      <th>col2</th>\n",
       "    </tr>\n",
       "    <tr>\n",
       "      <th>ix</th>\n",
       "      <th></th>\n",
       "      <th></th>\n",
       "    </tr>\n",
       "  </thead>\n",
       "  <tbody>\n",
       "    <tr>\n",
       "      <th>row1</th>\n",
       "      <td>1</td>\n",
       "      <td>-3</td>\n",
       "    </tr>\n",
       "    <tr>\n",
       "      <th>row2</th>\n",
       "      <td>-2</td>\n",
       "      <td>4</td>\n",
       "    </tr>\n",
       "  </tbody>\n",
       "</table>\n",
       "</div>"
      ],
      "text/plain": [
       "      col1  col2\n",
       "ix              \n",
       "row1     1    -3\n",
       "row2    -2     4"
      ]
     },
     "execution_count": 60,
     "metadata": {},
     "output_type": "execute_result"
    }
   ],
   "source": [
    "df = pd.DataFrame({\"col1\": [1, -2], \"col2\": [-3, 4]},\n",
    "                   index=[\"row1\", \"row2\"])\n",
    "df.index.name = \"ix\"\n",
    "df"
   ]
  },
  {
   "cell_type": "code",
   "execution_count": 61,
   "metadata": {},
   "outputs": [],
   "source": [
    "# 使用OpenXL格式化索引和标题\n",
    "from openpyxl.styles import PatternFill\n",
    "\n",
    "with pd.ExcelWriter(\"formatting_openpyxl.xlsx\",\n",
    "                    engine=\"openpyxl\") as writer:\n",
    "    # 保存数据\n",
    "    df.to_excel(writer, startrow=0, startcol=0)\n",
    "\n",
    "    # 保存数据 从指定索引开始\n",
    "    startrow, startcol = 0, 5\n",
    "    df.to_excel(writer, header=False, index=False,\n",
    "                startrow=startrow + 1, startcol=startcol + 1)\n",
    "    \n",
    "    # 设置填充风格\n",
    "    sheet = writer.sheets[\"Sheet1\"]\n",
    "    style = PatternFill(fgColor=\"D9D9D9\", fill_type=\"solid\")\n",
    "\n",
    "    # 2. 对每个单元格进行风格设置\n",
    "    for i, col in enumerate(df.columns):\n",
    "        sheet.cell(row=startrow + 1, column=i + startcol + 2,\n",
    "                   value=col).fill = style\n",
    "\n",
    "    # 3. 写入带样式的索引\n",
    "    index = [df.index.name if df.index.name else None] + list(df.index)\n",
    "    for i, row in enumerate(index):\n",
    "        sheet.cell(row=i + startrow + 1, column=startcol + 1,\n",
    "                   value=row).fill = style"
   ]
  },
  {
   "cell_type": "code",
   "execution_count": null,
   "metadata": {},
   "outputs": [],
   "source": [
    "# 使用XlsxWriter对索引和标题进行格式化\n",
    "with pd.ExcelWriter(\"formatting_xlsxwriter.xlsx\",\n",
    "                    engine=\"xlsxwriter\") as writer:\n",
    "    # Write out the df with the default formatting to A1\n",
    "    df.to_excel(writer, startrow=0, startcol=0)\n",
    "\n",
    "    # Write out the df with custom index/header formatting to A6\n",
    "    startrow, startcol = 0, 5\n",
    "    # 1. Write out the data part of the DataFrame\n",
    "    df.to_excel(writer, header=False, index=False,\n",
    "                startrow=startrow + 1, startcol=startcol + 1)\n",
    "    # Get the book and sheet object and create a style object\n",
    "    book = writer.book\n",
    "    sheet = writer.sheets[\"Sheet1\"]\n",
    "    style = book.add_format({\"bg_color\": \"#D9D9D9\"})\n",
    "\n",
    "    # 2. Write out the styled column headers\n",
    "    for i, col in enumerate(df.columns):\n",
    "        sheet.write(startrow, startcol + i + 1, col, style)\n",
    "\n",
    "    # 3. Write out the styled index\n",
    "    index = [df.index.name if df.index.name else None] + list(df.index)\n",
    "    for i, row in enumerate(index):\n",
    "        sheet.write(startrow + i, startcol, row, style)"
   ]
  },
  {
   "cell_type": "markdown",
   "metadata": {},
   "source": [
    "2. 格式化DataFrame的数据部分\n",
    "   \n",
    "   OpenPyXL可以对每一个单元格应用一种格式\n",
    "\n",
    "   XlsxWriter只能对行或列应用格式。\n",
    "\n",
    "   "
   ]
  },
  {
   "cell_type": "code",
   "execution_count": 62,
   "metadata": {},
   "outputs": [],
   "source": [
    "# OpenPyXL设置单元格式\n",
    "\n",
    "from openpyxl.styles import Alignment\n",
    "\n",
    "with pd.ExcelWriter(\"data_format_openpyxl.xlsx\",\n",
    "                    engine=\"openpyxl\") as writer:\n",
    "    # Write out the DataFrame\n",
    "    df.to_excel(writer)\n",
    "    \n",
    "    # Get the book and sheet objects\n",
    "    book = writer.book\n",
    "    sheet = writer.sheets[\"Sheet1\"]\n",
    "    \n",
    "    # Formatting individual cells\n",
    "    nrows, ncols = df.shape\n",
    "    for row in range(nrows):\n",
    "        for col in range(ncols):\n",
    "            # +1 to account for the header/index\n",
    "            # +1 since OpenPyXL is 1-based\n",
    "            cell = sheet.cell(row=row + 2,\n",
    "                              column=col + 2)\n",
    "            cell.number_format = \"0.000\"\n",
    "            cell.alignment = Alignment(horizontal=\"center\")"
   ]
  },
  {
   "cell_type": "code",
   "execution_count": 63,
   "metadata": {},
   "outputs": [],
   "source": [
    "# 使用xlsxWriter\n",
    "with pd.ExcelWriter(\"data_format_xlsxwriter.xlsx\",\n",
    "                    engine=\"xlsxwriter\") as writer:\n",
    "    # Write out the DataFrame\n",
    "    df.to_excel(writer)\n",
    "\n",
    "    # Get the book and sheet objects\n",
    "    book = writer.book\n",
    "    sheet = writer.sheets[\"Sheet1\"]\n",
    "    \n",
    "    # Formatting the columns (individual cells can't be formatted)\n",
    "    number_format = book.add_format({\"num_format\": \"0.000\",\n",
    "                                     \"align\": \"center\"})\n",
    "    sheet.set_column(first_col=1, last_col=2,\n",
    "                     cell_format=number_format)"
   ]
  }
 ],
 "metadata": {
  "kernelspec": {
   "display_name": "torch",
   "language": "python",
   "name": "python3"
  },
  "language_info": {
   "codemirror_mode": {
    "name": "ipython",
    "version": 3
   },
   "file_extension": ".py",
   "mimetype": "text/x-python",
   "name": "python",
   "nbconvert_exporter": "python",
   "pygments_lexer": "ipython3",
   "version": "3.9.0"
  },
  "orig_nbformat": 4
 },
 "nbformat": 4,
 "nbformat_minor": 2
}
