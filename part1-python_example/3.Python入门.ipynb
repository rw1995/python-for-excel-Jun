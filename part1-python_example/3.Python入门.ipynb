{
 "cells": [
  {
   "cell_type": "markdown",
   "metadata": {},
   "source": [
    "## 1. 数据类型\n",
    "好其他变成语言一样， Pyton会区别对待数字、文本、布尔值等数据。 Python的做法是赋予不同的数据类型(data type)。最常用的数据类型有整形、浮点型、布尔值、 字符串\n",
    "\n",
    "在解释数据类型是什么之前，我们先看下什么是对象。"
   ]
  },
  {
   "cell_type": "markdown",
   "metadata": {},
   "source": [
    "### 1.1 对象\n",
    "\n",
    "在Python中，一切皆是对象。\n",
    "\n",
    "我们可以理解一篇英文文章， 存在很多单词、句子、段落。 其中每个字母的合并拼成了一个单词， 许多单词组合成了一个句子， 很多句子组合成一个段落。 那么，每个字母是一个对象， 每个单词是一个对象， 每个句子也是一个对象， 每个段落也是一个对象。\n",
    "\n",
    "类比到Python代码中， 我们可以简单的认为每个单词(**变量**)是一个对象， 一个句子（**函数**）是一个对象。一个段落也是一个对象。\n",
    "\n",
    "我们将其再次想想，一个段落中，存在单词、句子。当我们要使用某个段落的时候， 我们现在称有该段落是一个对象， 其中单词是段落中的**属性**、 函数是段落中的**方法**。\n"
   ]
  },
  {
   "cell_type": "markdown",
   "metadata": {},
   "source": [
    "### 1.2 数值类型\n",
    "\n",
    "int -- 整数型\n",
    "\n",
    "float -- 浮点数型"
   ]
  },
  {
   "cell_type": "code",
   "execution_count": 25,
   "metadata": {},
   "outputs": [
    {
     "data": {
      "text/plain": [
       "int"
      ]
     },
     "execution_count": 25,
     "metadata": {},
     "output_type": "execute_result"
    }
   ],
   "source": [
    "type(4)"
   ]
  },
  {
   "cell_type": "code",
   "execution_count": 26,
   "metadata": {},
   "outputs": [
    {
     "data": {
      "text/plain": [
       "float"
      ]
     },
     "execution_count": 26,
     "metadata": {},
     "output_type": "execute_result"
    }
   ],
   "source": [
    "type(4.4)"
   ]
  },
  {
   "cell_type": "code",
   "execution_count": 27,
   "metadata": {},
   "outputs": [
    {
     "data": {
      "text/plain": [
       "float"
      ]
     },
     "execution_count": 27,
     "metadata": {},
     "output_type": "execute_result"
    }
   ],
   "source": [
    "type(4.)"
   ]
  },
  {
   "cell_type": "code",
   "execution_count": 28,
   "metadata": {},
   "outputs": [
    {
     "data": {
      "text/plain": [
       "4.0"
      ]
     },
     "execution_count": 28,
     "metadata": {},
     "output_type": "execute_result"
    }
   ],
   "source": [
    "# 强制转换(int->float)\n",
    "float(4)"
   ]
  },
  {
   "cell_type": "code",
   "execution_count": 29,
   "metadata": {},
   "outputs": [
    {
     "data": {
      "text/plain": [
       "4"
      ]
     },
     "execution_count": 29,
     "metadata": {},
     "output_type": "execute_result"
    }
   ],
   "source": [
    "# 浮点数转整数型(flaot -> int)\n",
    "int(4.4)"
   ]
  },
  {
   "cell_type": "markdown",
   "metadata": {},
   "source": [
    "**注意： Excel单元格永远保存的是浮点数**"
   ]
  },
  {
   "cell_type": "markdown",
   "metadata": {},
   "source": [
    "** 算术运算符"
   ]
  },
  {
   "cell_type": "code",
   "execution_count": 30,
   "metadata": {},
   "outputs": [
    {
     "data": {
      "text/plain": [
       "7"
      ]
     },
     "execution_count": 30,
     "metadata": {},
     "output_type": "execute_result"
    }
   ],
   "source": [
    "3 + 4"
   ]
  },
  {
   "cell_type": "code",
   "execution_count": 31,
   "metadata": {},
   "outputs": [
    {
     "data": {
      "text/plain": [
       "2"
      ]
     },
     "execution_count": 31,
     "metadata": {},
     "output_type": "execute_result"
    }
   ],
   "source": [
    "3 - 1"
   ]
  },
  {
   "cell_type": "code",
   "execution_count": 32,
   "metadata": {},
   "outputs": [
    {
     "data": {
      "text/plain": [
       "0.75"
      ]
     },
     "execution_count": 32,
     "metadata": {},
     "output_type": "execute_result"
    }
   ],
   "source": [
    "3 / 4"
   ]
  },
  {
   "cell_type": "code",
   "execution_count": 33,
   "metadata": {},
   "outputs": [
    {
     "data": {
      "text/plain": [
       "12"
      ]
     },
     "execution_count": 33,
     "metadata": {},
     "output_type": "execute_result"
    }
   ],
   "source": [
    "3 * 4"
   ]
  },
  {
   "cell_type": "code",
   "execution_count": 34,
   "metadata": {},
   "outputs": [
    {
     "data": {
      "text/plain": [
       "1024"
      ]
     },
     "execution_count": 34,
     "metadata": {},
     "output_type": "execute_result"
    }
   ],
   "source": [
    "# excel: 2^10\n",
    "2 ** 10"
   ]
  },
  {
   "cell_type": "markdown",
   "metadata": {},
   "source": [
    "### 布尔值（True、False）"
   ]
  },
  {
   "cell_type": "code",
   "execution_count": 35,
   "metadata": {},
   "outputs": [
    {
     "data": {
      "text/plain": [
       "False"
      ]
     },
     "execution_count": 35,
     "metadata": {},
     "output_type": "execute_result"
    }
   ],
   "source": [
    "# excel: 3 = 4\n",
    "3 == 4"
   ]
  },
  {
   "cell_type": "code",
   "execution_count": 36,
   "metadata": {},
   "outputs": [
    {
     "data": {
      "text/plain": [
       "True"
      ]
     },
     "execution_count": 36,
     "metadata": {},
     "output_type": "execute_result"
    }
   ],
   "source": [
    "# excel: 3 <> 4\n",
    "3 != 4"
   ]
  },
  {
   "cell_type": "markdown",
   "metadata": {},
   "source": [
    "注意： None是一个python中的内置，表示没有纸， 假如一个函数没有直接写返回值， 那么该函数返回的就是一个None。 **None在Excel中对应的一个空单元格**"
   ]
  },
  {
   "cell_type": "markdown",
   "metadata": {},
   "source": [
    "### 1.4 字符串\n",
    "Pyython中的字符串既可以用引号(\")来表示， 可以用单引号(')来表示，唯一的要求是字符串的收尾必须是同一种引号， 你可以用+来拼接字符串， 或者用*来重复字符串的呢内容"
   ]
  },
  {
   "cell_type": "code",
   "execution_count": 37,
   "metadata": {},
   "outputs": [
    {
     "data": {
      "text/plain": [
       "'A doubl quote string. A single quote string.'"
      ]
     },
     "execution_count": 37,
     "metadata": {},
     "output_type": "execute_result"
    }
   ],
   "source": [
    "\"A doubl quote string. \" + \"A single quote string.\""
   ]
  },
  {
   "cell_type": "markdown",
   "metadata": {},
   "source": [
    "如果你发现字符串的内容还是需要转义'\\',可以使用反斜杠来转义字符：\n"
   ]
  },
  {
   "cell_type": "code",
   "execution_count": 38,
   "metadata": {},
   "outputs": [
    {
     "name": "stdout",
     "output_type": "stream",
     "text": [
      "It's easy to \"escape\" characters with a leading \\.\n"
     ]
    }
   ],
   "source": [
    "print(\"It's easy to \\\"escape\\\" characters with a leading \\\\.\")"
   ]
  },
  {
   "cell_type": "markdown",
   "metadata": {},
   "source": [
    "当字符串中含有变量的值时， 通常是可以用使用**f字符串(f-string， 格式化字符串字面量)**来处理。 只需要在字符串前加一个f，然后子字符串中用花括号引用变量：\n"
   ]
  },
  {
   "cell_type": "code",
   "execution_count": 39,
   "metadata": {},
   "outputs": [
    {
     "data": {
      "text/plain": [
       "'Python is free and oepn source'"
      ]
     },
     "execution_count": 39,
     "metadata": {},
     "output_type": "execute_result"
    }
   ],
   "source": [
    "# 在python中如何在一行中为多个变量赋予多个值\n",
    "\n",
    "fir_val, sec_val = 'free', 'oepn source'\n",
    "f\"Python is {fir_val} and {sec_val}\""
   ]
  },
  {
   "cell_type": "markdown",
   "metadata": {},
   "source": [
    "## 2. 索引和切片\n",
    "\n",
    "### 2.1 索引\n",
    "索引是每个序列中的元素对应在序列中的位置， **我们称通过对某个列表的索引值找到对应元素这种方式成为引用**\n",
    "Python的索引可以从0开始， 即序列的第一个元素通过0来引用。\n",
    "Python的索引还可以从-1开始，即可以利用负索引从序列末端引用元素。\n",
    "\n"
   ]
  },
  {
   "cell_type": "code",
   "execution_count": 40,
   "metadata": {},
   "outputs": [],
   "source": [
    "from PIL import Image\n"
   ]
  },
  {
   "cell_type": "code",
   "execution_count": 41,
   "metadata": {},
   "outputs": [
    {
     "ename": "FileNotFoundError",
     "evalue": "[Errno 2] No such file or directory: 'E:/PyCode/python-for-excel-Jun/pic/pthon_index.png'",
     "output_type": "error",
     "traceback": [
      "\u001b[1;31m---------------------------------------------------------------------------\u001b[0m",
      "\u001b[1;31mFileNotFoundError\u001b[0m                         Traceback (most recent call last)",
      "\u001b[1;32me:\\PyCode\\python-for-excel-record\\part1-python_example\\3.Python入门.ipynb 单元格 28\u001b[0m line \u001b[0;36m1\n\u001b[1;32m----> <a href='vscode-notebook-cell:/e%3A/PyCode/python-for-excel-record/part1-python_example/3.Python%E5%85%A5%E9%97%A8.ipynb#X36sZmlsZQ%3D%3D?line=0'>1</a>\u001b[0m img \u001b[39m=\u001b[39m Image\u001b[39m.\u001b[39;49mopen(\u001b[39mr\u001b[39;49m\u001b[39m'\u001b[39;49m\u001b[39mE:/PyCode/python-for-excel-Jun/pic/pthon_index.png\u001b[39;49m\u001b[39m'\u001b[39;49m)\n\u001b[0;32m      <a href='vscode-notebook-cell:/e%3A/PyCode/python-for-excel-record/part1-python_example/3.Python%E5%85%A5%E9%97%A8.ipynb#X36sZmlsZQ%3D%3D?line=1'>2</a>\u001b[0m img\n",
      "File \u001b[1;32md:\\SoftWare\\Anaconda3\\envs\\torch\\lib\\site-packages\\PIL\\Image.py:3227\u001b[0m, in \u001b[0;36mopen\u001b[1;34m(fp, mode, formats)\u001b[0m\n\u001b[0;32m   3224\u001b[0m     filename \u001b[39m=\u001b[39m fp\n\u001b[0;32m   3226\u001b[0m \u001b[39mif\u001b[39;00m filename:\n\u001b[1;32m-> 3227\u001b[0m     fp \u001b[39m=\u001b[39m builtins\u001b[39m.\u001b[39;49mopen(filename, \u001b[39m\"\u001b[39;49m\u001b[39mrb\u001b[39;49m\u001b[39m\"\u001b[39;49m)\n\u001b[0;32m   3228\u001b[0m     exclusive_fp \u001b[39m=\u001b[39m \u001b[39mTrue\u001b[39;00m\n\u001b[0;32m   3230\u001b[0m \u001b[39mtry\u001b[39;00m:\n",
      "\u001b[1;31mFileNotFoundError\u001b[0m: [Errno 2] No such file or directory: 'E:/PyCode/python-for-excel-Jun/pic/pthon_index.png'"
     ]
    }
   ],
   "source": [
    "img = Image.open(r'E:/PyCode/python-for-excel-Jun/pic/pthon_index.png')\n",
    "img"
   ]
  },
  {
   "cell_type": "code",
   "execution_count": null,
   "metadata": {},
   "outputs": [],
   "source": [
    "lanuage = 'PYTHON'"
   ]
  },
  {
   "cell_type": "code",
   "execution_count": null,
   "metadata": {},
   "outputs": [
    {
     "data": {
      "text/plain": [
       "'P'"
      ]
     },
     "execution_count": 34,
     "metadata": {},
     "output_type": "execute_result"
    }
   ],
   "source": [
    "lanuage[0]"
   ]
  },
  {
   "cell_type": "code",
   "execution_count": null,
   "metadata": {},
   "outputs": [
    {
     "data": {
      "text/plain": [
       "'N'"
      ]
     },
     "execution_count": 35,
     "metadata": {},
     "output_type": "execute_result"
    }
   ],
   "source": [
    "lanuage[-1]"
   ]
  },
  {
   "cell_type": "markdown",
   "metadata": {},
   "source": [
    "上述方案你能够一次取一个你对应索引的元素值， 当想得到多个字符的时候， 则需要切片了"
   ]
  },
  {
   "cell_type": "markdown",
   "metadata": {},
   "source": [
    "### 切片\n",
    "切片： 从一个序列中获取一个以上的严肃，这个操作就是切片（slicing）。s\n",
    "\n",
    "\n",
    "`sequence[start:stop:step]`\n",
    "\n",
    "Python中， 切片使用的是左闭右开区间，即：切片区间包含start, 但是不包含stop。\n",
    "\n",
    "如果省略了start或者stop， 则切片分别从头开始或者从末尾开始的所有元素。\n",
    "\n",
    "step决定了切片的方向和步长。 假如令步长为2， 切片则从左到右没两个元素去一个值； \n",
    "\n",
    "假如令步长为-3， 则切片会从右到左每3个元素取一个值。当省略了step时， 则使用默认步长1.\n"
   ]
  },
  {
   "cell_type": "code",
   "execution_count": null,
   "metadata": {},
   "outputs": [
    {
     "data": {
      "text/plain": [
       "'YT'"
      ]
     },
     "execution_count": 37,
     "metadata": {},
     "output_type": "execute_result"
    }
   ],
   "source": [
    "lanuage[1:3]"
   ]
  },
  {
   "cell_type": "code",
   "execution_count": null,
   "metadata": {},
   "outputs": [
    {
     "data": {
      "text/plain": [
       "'PYT'"
      ]
     },
     "execution_count": 39,
     "metadata": {},
     "output_type": "execute_result"
    }
   ],
   "source": [
    "lanuage[:3]"
   ]
  },
  {
   "cell_type": "code",
   "execution_count": null,
   "metadata": {},
   "outputs": [
    {
     "data": {
      "text/plain": [
       "'HON'"
      ]
     },
     "execution_count": 40,
     "metadata": {},
     "output_type": "execute_result"
    }
   ],
   "source": [
    "lanuage[-3:]"
   ]
  },
  {
   "cell_type": "code",
   "execution_count": null,
   "metadata": {},
   "outputs": [
    {
     "data": {
      "text/plain": [
       "'HO'"
      ]
     },
     "execution_count": 42,
     "metadata": {},
     "output_type": "execute_result"
    }
   ],
   "source": [
    "lanuage[-3:-1]"
   ]
  },
  {
   "cell_type": "code",
   "execution_count": null,
   "metadata": {},
   "outputs": [
    {
     "data": {
      "text/plain": [
       "'PYTHON'"
      ]
     },
     "execution_count": 43,
     "metadata": {},
     "output_type": "execute_result"
    }
   ],
   "source": [
    "lanuage[::1]"
   ]
  },
  {
   "cell_type": "code",
   "execution_count": null,
   "metadata": {},
   "outputs": [
    {
     "data": {
      "text/plain": [
       "'PTO'"
      ]
     },
     "execution_count": 44,
     "metadata": {},
     "output_type": "execute_result"
    }
   ],
   "source": [
    "lanuage[::2]"
   ]
  },
  {
   "cell_type": "code",
   "execution_count": null,
   "metadata": {},
   "outputs": [
    {
     "data": {
      "text/plain": [
       "'NOH'"
      ]
     },
     "execution_count": 45,
     "metadata": {},
     "output_type": "execute_result"
    }
   ],
   "source": [
    "lanuage[-1:-4:-1]"
   ]
  },
  {
   "cell_type": "markdown",
   "metadata": {},
   "source": [
    "我们可以进行多次切片"
   ]
  },
  {
   "cell_type": "code",
   "execution_count": null,
   "metadata": {},
   "outputs": [
    {
     "data": {
      "text/plain": [
       "'O'"
      ]
     },
     "execution_count": 46,
     "metadata": {},
     "output_type": "execute_result"
    }
   ],
   "source": [
    "lanuage[-3:][1]"
   ]
  },
  {
   "cell_type": "markdown",
   "metadata": {},
   "source": [
    "## 3 数据结构\n",
    "上述我们描述了python中的常见数值类型(int, float, 字符串),以及对字符串的索引、切片操作\n",
    "\n",
    "同时， python 提供了强大的**数据结构**以便于处理对象集合。\n",
    "\n",
    "数据结构通常包含：**列表、字典、元组、 集合**\n",
    "\n",
    "数据结构的一个共同点： **他们能存很多对象**， 即一个数据结构中可以存在多个不同的数值类型"
   ]
  },
  {
   "cell_type": "markdown",
   "metadata": {},
   "source": [
    "### 3.1 列表\n",
    "列表可以用来存储不同书库类型的多个对象。\n",
    "语法 `[element1, element2, ………]`\n",
    "\n",
    "它和字符串一样可以用'+'号进行拼接。"
   ]
  },
  {
   "cell_type": "code",
   "execution_count": null,
   "metadata": {},
   "outputs": [
    {
     "data": {
      "text/plain": [
       "['one.xlsx', 'two.xlsx', 'three.xlsx', 1, 2, 3]"
      ]
     },
     "execution_count": 47,
     "metadata": {},
     "output_type": "execute_result"
    }
   ],
   "source": [
    "file_name = ['one.xlsx', 'two.xlsx', 'three.xlsx']\n",
    "numbers = [1, 2, 3]\n",
    "\n",
    "file_name + numbers"
   ]
  },
  {
   "cell_type": "markdown",
   "metadata": {},
   "source": [
    "**列表也可以是对象**， 一个列表可以包含其他列表作为该列表的元素， 这种列表称之为嵌套式列表"
   ]
  },
  {
   "cell_type": "code",
   "execution_count": null,
   "metadata": {},
   "outputs": [
    {
     "data": {
      "text/plain": [
       "[[1, 2, 3], [4, 5, 6], [7, 8, 9]]"
      ]
     },
     "execution_count": 49,
     "metadata": {},
     "output_type": "execute_result"
    }
   ],
   "source": [
    "nested_list = [[1,2,3], [4,5,6], [7,8,9]]\n",
    "nested_list"
   ]
  },
  {
   "cell_type": "markdown",
   "metadata": {},
   "source": [
    "我们可以通过索引切片来得到想要的任何元素"
   ]
  },
  {
   "cell_type": "code",
   "execution_count": null,
   "metadata": {},
   "outputs": [
    {
     "data": {
      "text/plain": [
       "[4, 5, 6]"
      ]
     },
     "execution_count": 50,
     "metadata": {},
     "output_type": "execute_result"
    }
   ],
   "source": [
    "cells = nested_list\n",
    "cells[1]"
   ]
  },
  {
   "cell_type": "code",
   "execution_count": null,
   "metadata": {},
   "outputs": [
    {
     "data": {
      "text/plain": [
       "[5, 6]"
      ]
     },
     "execution_count": 51,
     "metadata": {},
     "output_type": "execute_result"
    }
   ],
   "source": [
    "cells[1][1:]"
   ]
  },
  {
   "cell_type": "markdown",
   "metadata": {},
   "source": [
    "#### 列表的常用方法"
   ]
  },
  {
   "cell_type": "code",
   "execution_count": null,
   "metadata": {},
   "outputs": [],
   "source": [
    "users = ['Linda', 'Brain']"
   ]
  },
  {
   "cell_type": "code",
   "execution_count": null,
   "metadata": {},
   "outputs": [],
   "source": [
    "# 向列表末尾追加元素\n",
    "users.append('Kennifer')\n"
   ]
  },
  {
   "cell_type": "code",
   "execution_count": null,
   "metadata": {},
   "outputs": [
    {
     "data": {
      "text/plain": [
       "['Linda', 'Brain', 'Kennifer']"
      ]
     },
     "execution_count": 55,
     "metadata": {},
     "output_type": "execute_result"
    }
   ],
   "source": [
    "users"
   ]
  },
  {
   "cell_type": "code",
   "execution_count": null,
   "metadata": {},
   "outputs": [
    {
     "data": {
      "text/plain": [
       "['Linda', 'TIMI', 'Brain', 'Kennifer']"
      ]
     },
     "execution_count": 56,
     "metadata": {},
     "output_type": "execute_result"
    }
   ],
   "source": [
    "# 通过索引方式插入有一个元素\n",
    "users.insert(1, 'TIMI')\n",
    "users"
   ]
  },
  {
   "cell_type": "code",
   "execution_count": null,
   "metadata": {},
   "outputs": [
    {
     "data": {
      "text/plain": [
       "['Linda', 'TIMI', 'Brain']"
      ]
     },
     "execution_count": 57,
     "metadata": {},
     "output_type": "execute_result"
    }
   ],
   "source": [
    "# 删除当前列表最后一个元素，并返回最后一个元素\n",
    "users.pop()\n",
    "users"
   ]
  },
  {
   "cell_type": "code",
   "execution_count": null,
   "metadata": {},
   "outputs": [
    {
     "data": {
      "text/plain": [
       "['Linda', 'Brain']"
      ]
     },
     "execution_count": 58,
     "metadata": {},
     "output_type": "execute_result"
    }
   ],
   "source": [
    "# 删除指定索引出的元素\n",
    "del users[1]\n",
    "users"
   ]
  },
  {
   "cell_type": "code",
   "execution_count": null,
   "metadata": {},
   "outputs": [
    {
     "data": {
      "text/plain": [
       "2"
      ]
     },
     "execution_count": 59,
     "metadata": {},
     "output_type": "execute_result"
    }
   ],
   "source": [
    "# 统计列表长度 \n",
    "len(users)"
   ]
  },
  {
   "cell_type": "code",
   "execution_count": null,
   "metadata": {},
   "outputs": [
    {
     "data": {
      "text/plain": [
       "True"
      ]
     },
     "execution_count": 60,
     "metadata": {},
     "output_type": "execute_result"
    }
   ],
   "source": [
    "# 检查某个值是否存在于列表中\n",
    "'Linda' in users"
   ]
  },
  {
   "cell_type": "code",
   "execution_count": null,
   "metadata": {},
   "outputs": [
    {
     "data": {
      "text/plain": [
       "[5, 15, 88]"
      ]
     },
     "execution_count": 61,
     "metadata": {},
     "output_type": "execute_result"
    }
   ],
   "source": [
    "# 排序\n",
    "tmp_list = [5,88,15]\n",
    "tmp_list.sort()\n",
    "tmp_list"
   ]
  },
  {
   "cell_type": "markdown",
   "metadata": {},
   "source": [
    "### 字典\n",
    "字典(dictionary)是键到值的映射。你会经常遇到键-值对。 \n",
    "\n",
    "语法 `{key1: val1, key2:val2, ...}`\n",
    "\n",
    "列表是通过索引来访问元素， 子带你则是通过键来访问元素。与索引一样， 键也可以放到方括号中。\n",
    "下面代码展示了，一对货币(键)映射到了汇率(值)："
   ]
  },
  {
   "cell_type": "code",
   "execution_count": null,
   "metadata": {},
   "outputs": [],
   "source": [
    "exchange_rates = {\"EURUSD\": 1.1152,\n",
    "                  \"GBPUSD\": 1.2454,\n",
    "                  \"AUDUSD\": 0.6161}"
   ]
  },
  {
   "cell_type": "code",
   "execution_count": null,
   "metadata": {},
   "outputs": [
    {
     "data": {
      "text/plain": [
       "1.1152"
      ]
     },
     "execution_count": 64,
     "metadata": {},
     "output_type": "execute_result"
    }
   ],
   "source": [
    "exchange_rates[\"EURUSD\"]  # Access the EURUSD exchange rate"
   ]
  },
  {
   "cell_type": "markdown",
   "metadata": {},
   "source": [
    "#### 字典的常用方法\n"
   ]
  },
  {
   "cell_type": "code",
   "execution_count": null,
   "metadata": {},
   "outputs": [
    {
     "data": {
      "text/plain": [
       "{'EURUSD': 1.2, 'GBPUSD': 1.2454, 'AUDUSD': 0.6161}"
      ]
     },
     "execution_count": 65,
     "metadata": {},
     "output_type": "execute_result"
    }
   ],
   "source": [
    "# 修改某个键对应的值\n",
    "exchange_rates[\"EURUSD\"] = 1.2 \n",
    "exchange_rates"
   ]
  },
  {
   "cell_type": "code",
   "execution_count": null,
   "metadata": {},
   "outputs": [
    {
     "data": {
      "text/plain": [
       "{'EURUSD': 1.2, 'GBPUSD': 1.2222, 'AUDUSD': 0.6161, 'SGDUSD': 0.7004}"
      ]
     },
     "execution_count": 67,
     "metadata": {},
     "output_type": "execute_result"
    }
   ],
   "source": [
    "# 合并两个或者多个字典的最简单的方法是将字典解包(unpack)后再合并到一个新的字典中\n",
    "# 当第二个字典包含了的哥字典的键1， 那么第一个字典对应的值会被覆盖\n",
    "{**exchange_rates, **{\"SGDUSD\": 0.7004, \"GBPUSD\": 1.2222}}"
   ]
  },
  {
   "cell_type": "code",
   "execution_count": null,
   "metadata": {},
   "outputs": [
    {
     "data": {
      "text/plain": [
       "{'EURUSD': 1.2, 'GBPUSD': 1.2222, 'AUDUSD': 0.6161, 'SGDUSD': 0.7004}"
      ]
     },
     "execution_count": 68,
     "metadata": {},
     "output_type": "execute_result"
    }
   ],
   "source": [
    "# 上述方法也可以写成\n",
    "exchange_rates | {\"SGDUSD\": 0.7004, \"GBPUSD\": 1.2222}"
   ]
  },
  {
   "cell_type": "code",
   "execution_count": null,
   "metadata": {},
   "outputs": [
    {
     "data": {
      "text/plain": [
       "1.2"
      ]
     },
     "execution_count": 69,
     "metadata": {},
     "output_type": "execute_result"
    }
   ],
   "source": [
    "# 键-值的获取\n",
    "# 方法1\n",
    "exchange_rates['EURUSD']\n"
   ]
  },
  {
   "cell_type": "code",
   "execution_count": null,
   "metadata": {},
   "outputs": [
    {
     "data": {
      "text/plain": [
       "1.2"
      ]
     },
     "execution_count": 70,
     "metadata": {},
     "output_type": "execute_result"
    }
   ],
   "source": [
    "# 方法2, 通过get方法,假如抓不到键， 则返回'N/A'\n",
    "exchange_rates.get('EURUSD','N/A')"
   ]
  },
  {
   "cell_type": "markdown",
   "metadata": {},
   "source": [
    "### 3.3 元组\n",
    "元组(tuple)和列表相似， 他们是**不可变的**， 通常用来进行一些固定常量的存储\n",
    "\n",
    "语法 `mytuple = (element1, elemnt2, ……)`\n"
   ]
  },
  {
   "cell_type": "markdown",
   "metadata": {},
   "source": [
    "#### 元组常用的方法"
   ]
  },
  {
   "cell_type": "code",
   "execution_count": null,
   "metadata": {},
   "outputs": [],
   "source": [
    "currencies = (\"EUR\", \"GBP\", \"AUD\")"
   ]
  },
  {
   "cell_type": "code",
   "execution_count": null,
   "metadata": {},
   "outputs": [
    {
     "data": {
      "text/plain": [
       "'EUR'"
      ]
     },
     "execution_count": 72,
     "metadata": {},
     "output_type": "execute_result"
    }
   ],
   "source": [
    "currencies[0]"
   ]
  },
  {
   "cell_type": "code",
   "execution_count": null,
   "metadata": {},
   "outputs": [
    {
     "data": {
      "text/plain": [
       "('EUR', 'GBP', 'AUD', 'SGD')"
      ]
     },
     "execution_count": 75,
     "metadata": {},
     "output_type": "execute_result"
    }
   ],
   "source": [
    "# 这边','很关键,当只有一个元素组成元组时，通过增加','将其隐式转换成元组\n",
    "currencies + (\"SGD\",)"
   ]
  },
  {
   "cell_type": "code",
   "execution_count": null,
   "metadata": {},
   "outputs": [
    {
     "data": {
      "text/plain": [
       "('EUR', 'GBP', 'AUD', 'SGD', 'FGH')"
      ]
     },
     "execution_count": 76,
     "metadata": {},
     "output_type": "execute_result"
    }
   ],
   "source": [
    "currencies + (\"SGD\", \"FGH\")"
   ]
  },
  {
   "cell_type": "markdown",
   "metadata": {},
   "source": [
    "### 集合\n",
    "集合(set)是一个没有重复元素的集合。在实践过车鞥这种，它们进场被用于列表去重或者元组去重。\n",
    "语法 `{element1, element2, ...}`\n"
   ]
  },
  {
   "cell_type": "code",
   "execution_count": null,
   "metadata": {},
   "outputs": [
    {
     "data": {
      "text/plain": [
       "{'EUR', 'SGD', 'USD'}"
      ]
     },
     "execution_count": 77,
     "metadata": {},
     "output_type": "execute_result"
    }
   ],
   "source": [
    "set([\"USD\", \"USD\", \"SGD\", \"EUR\", \"USD\", \"EUR\"])"
   ]
  },
  {
   "cell_type": "markdown",
   "metadata": {},
   "source": [
    "#### 集合的常用方法\n"
   ]
  },
  {
   "cell_type": "code",
   "execution_count": null,
   "metadata": {},
   "outputs": [
    {
     "data": {
      "text/plain": [
       "{'EUR', 'SGD', 'USD'}"
      ]
     },
     "execution_count": 79,
     "metadata": {},
     "output_type": "execute_result"
    }
   ],
   "source": [
    "# 列表去重\n",
    "set([\"USD\", \"USD\", \"SGD\", \"EUR\", \"USD\", \"EUR\"])"
   ]
  },
  {
   "cell_type": "code",
   "execution_count": null,
   "metadata": {},
   "outputs": [
    {
     "data": {
      "text/plain": [
       "{'CAD', 'CHF', 'EUR', 'SGD', 'USD'}"
      ]
     },
     "execution_count": 81,
     "metadata": {},
     "output_type": "execute_result"
    }
   ],
   "source": [
    "# 多个列表求并集\n",
    "portfolio1 = {\"USD\", \"EUR\", \"SGD\", \"CHF\"}\n",
    "portfolio2 = {\"EUR\", \"SGD\", \"CAD\"}\n",
    "portfolio1.union(portfolio2)\n"
   ]
  },
  {
   "cell_type": "code",
   "execution_count": null,
   "metadata": {},
   "outputs": [
    {
     "data": {
      "text/plain": [
       "{'EUR', 'SGD'}"
      ]
     },
     "execution_count": 82,
     "metadata": {},
     "output_type": "execute_result"
    }
   ],
   "source": [
    "# 多个列表冰求交集\n",
    "portfolio1.intersection(portfolio2)"
   ]
  },
  {
   "cell_type": "markdown",
   "metadata": {},
   "source": [
    "## 4. 控制流\n",
    "该节主要介绍if语句、for循环、while循环。\n",
    "\n",
    "上述的可以称为条件判断语句,如：\n",
    "\n",
    "if语句表达为： 假如...., 那么.....\n",
    "\n",
    "for循环语句表达为： 在....内， 我们.....\n",
    "\n",
    "while循环表达为： 满足....条件， 我们就....\n",
    "\n",
    "\n",
    "这些不单单是简单的辅助语句，类似`a = b + c`，而是一种带有判断逻辑、多语句组成的语句块1。\n",
    "\n",
    "那么如何进行语句块的书写呢？——python社区坚持以4个空格作为缩进， 也可以用tab键代替，如下：\n",
    "\n",
    "```python\n",
    "if condition:\n",
    "    do something\n",
    "```\n",
    "\n"
   ]
  },
  {
   "cell_type": "markdown",
   "metadata": {},
   "source": [
    "### 4.2 if语句与条件表达式\n",
    "\n",
    "if语句通常伴随着多种不同的条件， 虽然可能同时符合， 但是执行第一个符合条件的判断逻辑下的语句，然后跳出判断。\n",
    "\n",
    "if语句主要有3种形式"
   ]
  },
  {
   "cell_type": "markdown",
   "metadata": {},
   "source": [
    "第一种"
   ]
  },
  {
   "cell_type": "code",
   "execution_count": null,
   "metadata": {},
   "outputs": [
    {
     "name": "stdout",
     "output_type": "stream",
     "text": [
      "i < 6\n"
     ]
    }
   ],
   "source": [
    "i = 5\n",
    "if i < 6:\n",
    "    print('i < 6')\n"
   ]
  },
  {
   "cell_type": "markdown",
   "metadata": {},
   "source": [
    "第二种"
   ]
  },
  {
   "cell_type": "code",
   "execution_count": null,
   "metadata": {},
   "outputs": [
    {
     "name": "stdout",
     "output_type": "stream",
     "text": [
      "i>3\n"
     ]
    }
   ],
   "source": [
    "i = 5\n",
    "if i < 3:\n",
    "    print('i<3')\n",
    "else:\n",
    "    print('i>3')"
   ]
  },
  {
   "cell_type": "markdown",
   "metadata": {},
   "source": [
    "第三种"
   ]
  },
  {
   "cell_type": "code",
   "execution_count": null,
   "metadata": {},
   "outputs": [
    {
     "name": "stdout",
     "output_type": "stream",
     "text": [
      "i < 3\n"
     ]
    }
   ],
   "source": [
    "i = 2\n",
    "if i < 3:\n",
    "    print('i < 3')\n",
    "elif i < 5:\n",
    "    print('i < 5')\n",
    "else:\n",
    "    print('i >= 5')"
   ]
  },
  {
   "cell_type": "markdown",
   "metadata": {},
   "source": [
    "特殊的，python中还有一个更加简洁的三元运算符( ` do something1 if(condition1) else do something2` )"
   ]
  },
  {
   "cell_type": "code",
   "execution_count": null,
   "metadata": {},
   "outputs": [
    {
     "name": "stdout",
     "output_type": "stream",
     "text": [
      "not important\n"
     ]
    }
   ],
   "source": [
    "is_important = False\n",
    "print('important') if is_important == True else print('not important')"
   ]
  },
  {
   "cell_type": "markdown",
   "metadata": {},
   "source": [
    "### 4.3 for循环和while循环\n",
    "\n",
    "for循环和while循环都是用来进行重复某些任务的。 \n",
    "\n",
    "for循环对一个序列 [列表、元组、字符串(字符串就是字符的序列)] 进行迭代,直到列表中没有符合条件的更多的元素而终止\n"
   ]
  },
  {
   "cell_type": "code",
   "execution_count": null,
   "metadata": {},
   "outputs": [
    {
     "name": "stdout",
     "output_type": "stream",
     "text": [
      "USD\n",
      "HKD\n",
      "AUD\n"
     ]
    }
   ],
   "source": [
    "currencies = [\"USD\", \"HKD\", \"AUD\"]\n",
    "\n",
    "for currency in currencies:\n",
    "    print(currency)"
   ]
  },
  {
   "cell_type": "markdown",
   "metadata": {},
   "source": [
    "在for循环中迭代序列时假如需要一个计数器变量, 那么可以使用enumerate, 它会返回一系列(index, element)\n",
    "\n",
    "默认情况下,索引从0开始, 每次循环加1"
   ]
  },
  {
   "cell_type": "code",
   "execution_count": null,
   "metadata": {},
   "outputs": [
    {
     "name": "stdout",
     "output_type": "stream",
     "text": [
      "0 USD\n",
      "1 HKD\n",
      "2 AUD\n"
     ]
    }
   ],
   "source": [
    "for i , currency in enumerate(currencies):\n",
    "    print(i, currency)"
   ]
  },
  {
   "cell_type": "markdown",
   "metadata": {},
   "source": [
    "for语句对元组的循环遍历， 则需要使用到tuple.items()函数"
   ]
  },
  {
   "cell_type": "code",
   "execution_count": null,
   "metadata": {},
   "outputs": [
    {
     "name": "stdout",
     "output_type": "stream",
     "text": [
      "EURUSD\n",
      "GBPUSD\n",
      "AUDUSD\n"
     ]
    }
   ],
   "source": [
    "exchange_rates = {\"EURUSD\": 1.1152,\n",
    "                  \"GBPUSD\": 1.2454,\n",
    "                  \"AUDUSD\": 0.6161}\n",
    "for currency_pair in exchange_rates:\n",
    "    print(currency_pair)\n",
    "    "
   ]
  },
  {
   "cell_type": "code",
   "execution_count": null,
   "metadata": {},
   "outputs": [
    {
     "name": "stdout",
     "output_type": "stream",
     "text": [
      "EURUSD 1.1152\n",
      "GBPUSD 1.2454\n",
      "AUDUSD 0.6161\n"
     ]
    }
   ],
   "source": [
    "for currency_pair, exchange_rate in exchange_rates.items():\n",
    "    print(currency_pair, exchange_rate)"
   ]
  },
  {
   "cell_type": "markdown",
   "metadata": {},
   "source": [
    "还剩下2个问题\n",
    "\n",
    "1. 如何自动结束for循环呢？  答案就是break语句， 如下"
   ]
  },
  {
   "cell_type": "code",
   "execution_count": null,
   "metadata": {},
   "outputs": [
    {
     "name": "stdout",
     "output_type": "stream",
     "text": [
      "0\n",
      "1\n",
      "2\n",
      "3\n",
      "4\n"
     ]
    }
   ],
   "source": [
    "for i in range(15):\n",
    "    if i < 5:\n",
    "        print(i)\n",
    "    else:\n",
    "        break"
   ]
  },
  {
   "cell_type": "markdown",
   "metadata": {},
   "source": [
    "2. 在循环过程中，如何不执行某段特殊条件呢？ 答案就是continue语句, 如下：\n"
   ]
  },
  {
   "cell_type": "code",
   "execution_count": null,
   "metadata": {},
   "outputs": [
    {
     "name": "stdout",
     "output_type": "stream",
     "text": [
      "5\n",
      "6\n",
      "7\n",
      "8\n",
      "9\n",
      "10\n",
      "11\n",
      "12\n",
      "13\n",
      "14\n"
     ]
    }
   ],
   "source": [
    "for i in range(15):\n",
    "    if i < 5:\n",
    "        continue\n",
    "        print(i)\n",
    "    else:\n",
    "        print(i)"
   ]
  },
  {
   "cell_type": "markdown",
   "metadata": {},
   "source": [
    "while语句与for语句相似， 如下："
   ]
  },
  {
   "cell_type": "code",
   "execution_count": null,
   "metadata": {},
   "outputs": [
    {
     "name": "stdout",
     "output_type": "stream",
     "text": [
      "0\n",
      "1\n",
      "2\n"
     ]
    }
   ],
   "source": [
    "n = 0\n",
    "while n <= 2 :\n",
    "    print(n)\n",
    "    n += 1 # 等效于 n = n + 1 "
   ]
  },
  {
   "cell_type": "markdown",
   "metadata": {},
   "source": [
    "目前为止就是python的基础构造， 可以简单认为是 数据类型(单词)+判断语句(逻辑)。 这些已经足够构建一句完整的逻辑语句啦(句子)。如何写一个完整的段落呢？"
   ]
  },
  {
   "cell_type": "markdown",
   "metadata": {},
   "source": [
    "## 5 组织代码\n",
    "### 5.1 函数\n",
    "1. 定义函数\n",
    "\n",
    "函数的功能是将一个多个语句放置在一起，进行统一处理。函数的一个好处是， 我们可以重复利用该函数\n",
    "\n",
    "函数的语法如下：\n",
    "\n",
    "```python\n",
    "def function_name(required_argument, optional_argument=default_val, ...):\n",
    "    return value1, value2, ...\n",
    "```\n",
    "required_argument是必需函数， 必须参数没有默认值。 参数之间用都含进行隔开\n",
    "\n",
    "optional_argument是可选参数， 为参数提供默认值， 如果没有意义的默认值，通常用None表示默认设置\n",
    "\n",
    "reutrn语句定义了函数的返回值， 假如省略了返回值， 函数默认返回None.\n",
    "\n",
    "python允许返回以逗号隔开的多个返回值\n"
   ]
  },
  {
   "cell_type": "markdown",
   "metadata": {},
   "source": [
    "下列函数实现了将华氏度转换为摄氏度:"
   ]
  },
  {
   "cell_type": "code",
   "execution_count": null,
   "metadata": {},
   "outputs": [],
   "source": [
    "def convert_to_celsius(degrees, source=\"fahrenheit\"):\n",
    "    if source.lower() == \"fahrenheit\":\n",
    "        return (degrees-32) * (5/9)\n",
    "    elif source.lower() == \"kelvin\":\n",
    "        return degrees - 273.15\n",
    "    else:\n",
    "        return f\"Don't know how to convert from {source}\""
   ]
  },
  {
   "cell_type": "markdown",
   "metadata": {},
   "source": [
    "2. 函数如何被使用呢\n",
    "\n",
    "语法如下： `val1, val2, ... = function_name(positional_arg, arg_name=value, ...)`\n",
    "\n",
    "positional_arg表示位置参数，即我们需要将数据传递给这个位置， 重点是值与位置是一一对应的，即位置传参\n",
    "\n",
    "arg_name=value这种形式传递的参数是关键词传参， 与上述不同的是， 他可以以任意顺序来传递参数\n",
    "\n",
    "总的来说：\n",
    "\n",
    "假如函数f(a,b) , 当a=1, b=2时：\n",
    "\n",
    "位置传参：f(1,2)\n",
    "\n",
    "关键词传参： f(a=1, b=2) 或 f(b=2, a=1)"
   ]
  },
  {
   "cell_type": "markdown",
   "metadata": {},
   "source": [
    "以上述函数为例子：\n"
   ]
  },
  {
   "cell_type": "markdown",
   "metadata": {},
   "source": [
    "以上述的函数为例，调用的方式如下：\n",
    "\n"
   ]
  },
  {
   "cell_type": "code",
   "execution_count": null,
   "metadata": {},
   "outputs": [
    {
     "data": {
      "text/plain": [
       "76.66666666666667"
      ]
     },
     "execution_count": 24,
     "metadata": {},
     "output_type": "execute_result"
    }
   ],
   "source": [
    "convert_to_celsius(170)"
   ]
  },
  {
   "cell_type": "code",
   "execution_count": null,
   "metadata": {},
   "outputs": [],
   "source": []
  }
 ],
 "metadata": {
  "kernelspec": {
   "display_name": "torch",
   "language": "python",
   "name": "python3"
  },
  "language_info": {
   "codemirror_mode": {
    "name": "ipython",
    "version": 3
   },
   "file_extension": ".py",
   "mimetype": "text/x-python",
   "name": "python",
   "nbconvert_exporter": "python",
   "pygments_lexer": "ipython3",
   "version": "3.9.0"
  },
  "orig_nbformat": 4
 },
 "nbformat": 4,
 "nbformat_minor": 2
}
