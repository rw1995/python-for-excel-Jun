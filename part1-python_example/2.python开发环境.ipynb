{
 "cells": [
  {
   "cell_type": "code",
   "execution_count": 1,
   "metadata": {},
   "outputs": [],
   "source": [
    "from PIL import Image"
   ]
  },
  {
   "cell_type": "markdown",
   "metadata": {},
   "source": [
    "[anconda安装方式](https://blog.csdn.net/m0_61607990/article/details/129531686)\n"
   ]
  },
  {
   "cell_type": "markdown",
   "metadata": {},
   "source": [
    "jupyer notebook快捷方式\n",
    "\n",
    "1. 模式切换\n",
    "   1. 当前 cell 侧边为蓝色时，表示此时为命令模式，按 Enter 切换为编辑模式\n",
    "   2. 当前 cell 侧边为绿色时，表示此时为编辑模式，按 Esc 切换为命令模式 \n",
    "2. 命令模式快捷键\n",
    "   1. F：查找和替换\n",
    "   2. Ctrl-Enter：运行当前 cell\n",
    "   3. Shift-Enter：运行当前 cell 并 跳转到下一 cell\n",
    "   4. Alt-Enter：运行当前 cell 并在下方新建 cell\n",
    "   5. Y：把当前 cell 内容转换为代码形式\n",
    "   6. M：把当前 cell 内容转换为 markdown 形式\n",
    "   7. 1~6：把当前cell内容设置为标题 1~6 格式\n",
    "   8. Shift+上下键：按住 Shift 进行上下键操作可复选多个 cell\n",
    "   9. A：在上方新建 cell\n",
    "   10. B：在下方新建 cell\n",
    "   11. X/C/Shift-V/V：剪切/复制/上方粘贴/下方粘贴\n",
    "   12. 双击D：删除当前 cell\n",
    "   13. Z：撤销删除\n",
    "   14. S：保存 notebook\n",
    "   15. L：为当前 cell 的代码添加行编号\n",
    "   16. Shift-L：为所有 cell 的代码添加行编号\n",
    "   17. Shift-M：合并所选 cell 或合并当前 cell 和下方的 cell\n",
    "   18. 双击I：停止 kernel\n",
    "   19. 双击0：重启 kernel\n",
    "3.  编辑模式快捷键\n",
    "    1.  Tab：代码补全\n",
    "    2.  Ctrl-A：全选\n",
    "    3.  Ctrl-Z：撤销\n",
    "    4.  Ctrl-Home：将光标移至 cell 最前端\n",
    "    5.  Ctrl-End：将光标移至 cell 末端\n",
    "    6.  Ctrl+/ ：注释\n"
   ]
  },
  {
   "cell_type": "markdown",
   "metadata": {},
   "source": [
    "[vscode如何配置MarkDown](https://blog.csdn.net/hyupeng1006/article/details/129590409)\n",
    "\n",
    "[如何git代码到github上去](https://blog.csdn.net/qq_26525215/article/details/52270646)\n",
    "\n",
    "[vscode上使用jupyter notebook](https://blog.csdn.net/qq_29108959/article/details/131717713)\n",
    "\n",
    "[如何安装jupyter](https://zhuanlan.zhihu.com/p/144194565)\n"
   ]
  },
  {
   "cell_type": "markdown",
   "metadata": {},
   "source": [
    "上述安装完Anaconda和Jupyter笔记后， 就算准备好Python入门的一起啦。"
   ]
  }
 ],
 "metadata": {
  "kernelspec": {
   "display_name": "torch",
   "language": "python",
   "name": "python3"
  },
  "language_info": {
   "codemirror_mode": {
    "name": "ipython",
    "version": 3
   },
   "file_extension": ".py",
   "mimetype": "text/x-python",
   "name": "python",
   "nbconvert_exporter": "python",
   "pygments_lexer": "ipython3",
   "version": "3.9.0"
  },
  "orig_nbformat": 4
 },
 "nbformat": 4,
 "nbformat_minor": 2
}
